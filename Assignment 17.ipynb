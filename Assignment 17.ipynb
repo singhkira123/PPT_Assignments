{
 "cells": [
  {
   "cell_type": "markdown",
   "id": "f5a9b2a7",
   "metadata": {},
   "source": [
    "# Assignment 17 Solution"
   ]
  },
  {
   "cell_type": "markdown",
   "id": "07147149",
   "metadata": {},
   "source": [
    "# <aside>\n",
    "💡 **Question 1**\n",
    "\n",
    "Given a string `s`, *find the first non-repeating character in it and return its index*. If it does not exist, return `-1`.\n",
    "\n",
    "**Example 1:**\n",
    "\n",
    "Input: s = \"leetcode\"\n",
    "    \n",
    "Output: 0\n",
    "\n",
    "\n",
    "</aside>"
   ]
  },
  {
   "cell_type": "code",
   "execution_count": 1,
   "id": "cd6fc3ae",
   "metadata": {},
   "outputs": [
    {
     "name": "stdout",
     "output_type": "stream",
     "text": [
      "0\n"
     ]
    }
   ],
   "source": [
    "def find_first_non_repeating(s):\n",
    "    char_count = {}\n",
    "    \n",
    "    # Count the occurrences of each character\n",
    "    for c in s:\n",
    "        if c not in char_count:\n",
    "            char_count[c] = 1\n",
    "        else:\n",
    "            char_count[c] += 1\n",
    "    \n",
    "    # Find the index of the first non-repeating character\n",
    "    for i, c in enumerate(s):\n",
    "        if char_count[c] == 1:\n",
    "            return i\n",
    "    \n",
    "    # If no non-repeating character is found\n",
    "    return -1\n",
    "\n",
    "# Example usage\n",
    "s = \"leetcode\"\n",
    "result = find_first_non_repeating(s)\n",
    "print(result)  # Output: 0\n"
   ]
  },
  {
   "cell_type": "markdown",
   "id": "552bb2ae",
   "metadata": {},
   "source": [
    "#### Example 2:\n",
    "    \n",
    "Input: s = \"loveleetcode\"\n",
    "    \n",
    "Output: 2\n"
   ]
  },
  {
   "cell_type": "code",
   "execution_count": 2,
   "id": "c7e22790",
   "metadata": {},
   "outputs": [
    {
     "name": "stdout",
     "output_type": "stream",
     "text": [
      "2\n"
     ]
    }
   ],
   "source": [
    "def find_first_non_repeating(s):\n",
    "    char_count = {}\n",
    "    \n",
    "    # Count the occurrences of each character\n",
    "    for c in s:\n",
    "        if c not in char_count:\n",
    "            char_count[c] = 1\n",
    "        else:\n",
    "            char_count[c] += 1\n",
    "    \n",
    "    # Find the index of the first non-repeating character\n",
    "    for i, c in enumerate(s):\n",
    "        if char_count[c] == 1:\n",
    "            return i\n",
    "    \n",
    "    # If no non-repeating character is found\n",
    "    return -1\n",
    "\n",
    "# Example usage\n",
    "s = \"loveleetcode\"\n",
    "result = find_first_non_repeating(s)\n",
    "print(result)  # Output: 2\n"
   ]
  },
  {
   "cell_type": "markdown",
   "id": "e22f5ff2",
   "metadata": {},
   "source": [
    "#### Example 3:\n",
    "    \n",
    "Input: s = \"aabb\"\n",
    "    \n",
    "Output: -1"
   ]
  },
  {
   "cell_type": "code",
   "execution_count": 3,
   "id": "50f44e11",
   "metadata": {},
   "outputs": [
    {
     "name": "stdout",
     "output_type": "stream",
     "text": [
      "-1\n"
     ]
    }
   ],
   "source": [
    "def find_first_non_repeating(s):\n",
    "    char_count = {}\n",
    "    \n",
    "    # Count the occurrences of each character\n",
    "    for c in s:\n",
    "        if c not in char_count:\n",
    "            char_count[c] = 1\n",
    "        else:\n",
    "            char_count[c] += 1\n",
    "    \n",
    "    # Find the index of the first non-repeating character\n",
    "    for i, c in enumerate(s):\n",
    "        if char_count[c] == 1:\n",
    "            return i\n",
    "    \n",
    "    # If no non-repeating character is found\n",
    "    return -1\n",
    "\n",
    "# Example usage\n",
    "s = \"aabb\"\n",
    "result = find_first_non_repeating(s)\n",
    "print(result)  # Output: -1\n"
   ]
  },
  {
   "cell_type": "markdown",
   "id": "d0e49290",
   "metadata": {},
   "source": [
    "# <aside>\n",
    "💡 **Question 2**\n",
    "\n",
    "Given a **circular integer array** `nums` of length `n`, return *the maximum possible sum of a non-empty **subarray** of* `nums`.\n",
    "\n",
    "A **circular array** means the end of the array connects to the beginning of the array. Formally, the next element of `nums[i]` is `nums[(i + 1) % n]` and the previous element of `nums[i]` is `nums[(i - 1 + n) % n]`.\n",
    "\n",
    "A **subarray** may only include each element of the fixed buffer `nums` at most once. Formally, for a subarray `nums[i], nums[i + 1], ..., nums[j]`, there does not exist `i <= k1`, `k2 <= j` with `k1 % n == k2 % n`.\n",
    "\n",
    "**Example 1:**\n",
    "    \n",
    "Input: nums = [1,-2,3,-2]\n",
    "    \n",
    "Output: 3\n",
    "    \n",
    "Explanation: Subarray [3] has maximum sum 3.\n",
    "\n",
    "\n",
    "</aside>"
   ]
  },
  {
   "cell_type": "code",
   "execution_count": 4,
   "id": "c185bb10",
   "metadata": {},
   "outputs": [],
   "source": [
    "def max_subarray_sum(nums):\n",
    "    max_sum = float('-inf')\n",
    "    curr_max = 0\n",
    "    min_sum = float('inf')\n",
    "    curr_min = 0\n",
    "    total_sum = 0\n",
    "\n",
    "    for num in nums:\n",
    "        curr_max = max(curr_max + num, num)\n",
    "        max_sum = max(max_sum, curr_max)\n",
    "\n",
    "        curr_min = min(curr_min + num, num)\n",
    "        min_sum = min(min_sum, curr_min)\n",
    "\n",
    "        total_sum += num\n",
    "\n",
    "    if max_sum > 0:\n",
    "        return max_sum\n",
    "    else:\n",
    "        return max(max_sum, total_sum - min_sum)\n"
   ]
  },
  {
   "cell_type": "code",
   "execution_count": 5,
   "id": "34f5d8aa",
   "metadata": {},
   "outputs": [
    {
     "name": "stdout",
     "output_type": "stream",
     "text": [
      "3\n"
     ]
    }
   ],
   "source": [
    "nums = [1, -2, 3, -2]\n",
    "print(max_subarray_sum(nums))\n"
   ]
  },
  {
   "cell_type": "markdown",
   "id": "325bbc6f",
   "metadata": {},
   "source": [
    "#### Example 2:\n",
    "    \n",
    "Input: nums = [5,-3,5]\n",
    "    \n",
    "Output: 10\n",
    "    \n",
    "Explanation: Subarray [5,5] has maximum sum 5 + 5 = 10.\n"
   ]
  },
  {
   "cell_type": "code",
   "execution_count": 6,
   "id": "a2b2f758",
   "metadata": {},
   "outputs": [],
   "source": [
    "def max_subarray_sum(nums):\n",
    "    max_sum = float('-inf')\n",
    "    curr_max = 0\n",
    "    min_sum = float('inf')\n",
    "    curr_min = 0\n",
    "    total_sum = 0\n",
    "\n",
    "    for num in nums:\n",
    "        curr_max = max(curr_max + num, num)\n",
    "        max_sum = max(max_sum, curr_max)\n",
    "\n",
    "        curr_min = min(curr_min + num, num)\n",
    "        min_sum = min(min_sum, curr_min)\n",
    "\n",
    "        total_sum += num\n",
    "\n",
    "    if max_sum > 0:\n",
    "        return max_sum\n",
    "    else:\n",
    "        return max(max_sum, total_sum - min_sum)\n"
   ]
  },
  {
   "cell_type": "code",
   "execution_count": 7,
   "id": "4b4553b4",
   "metadata": {},
   "outputs": [
    {
     "name": "stdout",
     "output_type": "stream",
     "text": [
      "7\n"
     ]
    }
   ],
   "source": [
    "nums = [5, -3, 5]\n",
    "print(max_subarray_sum(nums))\n"
   ]
  },
  {
   "cell_type": "markdown",
   "id": "e6ad223c",
   "metadata": {},
   "source": [
    "#### Example 3:\n",
    "    \n",
    "Input: nums = [-3,-2,-3]\n",
    "    \n",
    "Output: -2\n",
    "    \n",
    "Explanation: Subarray [-2] has maximum sum -2."
   ]
  },
  {
   "cell_type": "code",
   "execution_count": 8,
   "id": "002d8c4d",
   "metadata": {},
   "outputs": [],
   "source": [
    "def max_subarray_sum(nums):\n",
    "    max_sum = float('-inf')\n",
    "    curr_max = 0\n",
    "    min_sum = float('inf')\n",
    "    curr_min = 0\n",
    "    total_sum = 0\n",
    "\n",
    "    for num in nums:\n",
    "        curr_max = max(curr_max + num, num)\n",
    "        max_sum = max(max_sum, curr_max)\n",
    "\n",
    "        curr_min = min(curr_min + num, num)\n",
    "        min_sum = min(min_sum, curr_min)\n",
    "\n",
    "        total_sum += num\n",
    "\n",
    "    if max_sum > 0:\n",
    "        return max_sum\n",
    "    else:\n",
    "        if total_sum == min_sum:  # All elements are negative\n",
    "            return max(nums)  # Return the maximum element\n",
    "        else:\n",
    "            return max(max_sum, total_sum - min_sum)\n"
   ]
  },
  {
   "cell_type": "code",
   "execution_count": 9,
   "id": "47baee80",
   "metadata": {},
   "outputs": [
    {
     "name": "stdout",
     "output_type": "stream",
     "text": [
      "-2\n"
     ]
    }
   ],
   "source": [
    "nums = [-3, -2, -3]\n",
    "print(max_subarray_sum(nums))\n"
   ]
  },
  {
   "cell_type": "markdown",
   "id": "c1cdb49e",
   "metadata": {},
   "source": [
    "# <aside>\n",
    "💡 **Question 3**\n",
    "\n",
    "The school cafeteria offers circular and square sandwiches at lunch break, referred to by numbers `0` and `1` respectively. All students stand in a queue. Each student either prefers square or circular sandwiches.\n",
    "\n",
    "The number of sandwiches in the cafeteria is equal to the number of students. The sandwiches are placed in a **stack**. At each step:\n",
    "\n",
    "- If the student at the front of the queue **prefers** the sandwich on the top of the stack, they will **take it** and leave the queue.\n",
    "- Otherwise, they will **leave it** and go to the queue's end.\n",
    "\n",
    "This continues until none of the queue students want to take the top sandwich and are thus unable to eat.\n",
    "\n",
    "You are given two integer arrays `students` and `sandwiches` where `sandwiches[i]` is the type of the `ith` sandwich in the stack (`i = 0` is the top of the stack) and `students[j]` is the preference of the `jth` student in the initial queue (`j = 0` is the front of the queue). Return *the number of students that are unable to eat.*\n",
    "\n",
    "**Example 1:**\n",
    "    \n",
    "Input: students = [1,1,0,0], sandwiches = [0,1,0,1]\n",
    "    \n",
    "Output: 0\n",
    "    \n",
    "Explanation:\n",
    "    \n",
    "- Front student leaves the top sandwich and returns to the end of the line making students = [1,0,0,1].\n",
    "    \n",
    "- Front student leaves the top sandwich and returns to the end of the line making students = [0,0,1,1].\n",
    "    \n",
    "- Front student takes the top sandwich and leaves the line making students = [0,1,1] and sandwiches = [1,0,1].\n",
    "    \n",
    "- Front student leaves the top sandwich and returns to the end of the line making students = [1,1,0].\n",
    "    \n",
    "- Front student takes the top sandwich and leaves the line making students = [1,0] and sandwiches = [0,1].\n",
    "    \n",
    "- Front student leaves the top sandwich and returns to the end of the line making students = [0,1].\n",
    "    \n",
    "- Front student takes the top sandwich and leaves the line making students = [1] and sandwiches = [1].\n",
    "    \n",
    "- Front student takes the top sandwich and leaves the line making students = [] and sandwiches = [].\n",
    "Hence all students are able to eat.\n",
    "\n",
    "\n",
    "</aside>"
   ]
  },
  {
   "cell_type": "code",
   "execution_count": 10,
   "id": "493f0ace",
   "metadata": {},
   "outputs": [],
   "source": [
    "def countStudents(students, sandwiches):\n",
    "    count = 0  # Number of students unable to eat\n",
    "    n = len(students)\n",
    "    i = 0  # Index for iterating through the students' preferences\n",
    "\n",
    "    while i < n and count < n:\n",
    "        if students[i] == sandwiches[0]:\n",
    "            sandwiches.pop(0)\n",
    "            count = 0  # Reset the count if a student takes a sandwich\n",
    "        else:\n",
    "            count += 1\n",
    "        i += 1\n",
    "\n",
    "    return count\n"
   ]
  },
  {
   "cell_type": "code",
   "execution_count": 11,
   "id": "558cd07f",
   "metadata": {},
   "outputs": [
    {
     "name": "stdout",
     "output_type": "stream",
     "text": [
      "1\n"
     ]
    }
   ],
   "source": [
    "students = [1, 1, 0, 0]\n",
    "sandwiches = [0, 1, 0, 1]\n",
    "print(countStudents(students, sandwiches))\n"
   ]
  },
  {
   "cell_type": "markdown",
   "id": "3e3f56d5",
   "metadata": {},
   "source": [
    "#### Example 2\n",
    "\n",
    "Input: students = [1,1,1,0,0,1], sandwiches = [1,0,0,0,1,1]\n",
    "    \n",
    "Output: 3"
   ]
  },
  {
   "cell_type": "code",
   "execution_count": 12,
   "id": "29b8c964",
   "metadata": {},
   "outputs": [],
   "source": [
    "def countStudents(students, sandwiches):\n",
    "    count = 0  # Number of students unable to eat\n",
    "    n = len(students)\n",
    "    i = 0  # Index for iterating through the students' preferences\n",
    "\n",
    "    while i < n and count < n:\n",
    "        if students[i] == sandwiches[0]:\n",
    "            sandwiches.pop(0)\n",
    "            count = 0  # Reset the count if a student takes a sandwich\n",
    "        else:\n",
    "            count += 1\n",
    "        i += 1\n",
    "\n",
    "    return count\n"
   ]
  },
  {
   "cell_type": "code",
   "execution_count": 13,
   "id": "a9438ec3",
   "metadata": {},
   "outputs": [
    {
     "name": "stdout",
     "output_type": "stream",
     "text": [
      "1\n"
     ]
    }
   ],
   "source": [
    "students = [1, 1, 1, 0, 0, 1]\n",
    "sandwiches = [1, 0, 0, 0, 1, 1]\n",
    "print(countStudents(students, sandwiches))\n"
   ]
  },
  {
   "cell_type": "markdown",
   "id": "eefb2bee",
   "metadata": {},
   "source": [
    "# <aside>\n",
    "💡 **Question 4**\n",
    "\n",
    "You have a `RecentCounter` class which counts the number of recent requests within a certain time frame.\n",
    "\n",
    "Implement the `RecentCounter` class:\n",
    "\n",
    "- `RecentCounter()` Initializes the counter with zero recent requests.\n",
    "- `int ping(int t)` Adds a new request at time `t`, where `t` represents some time in milliseconds, and returns the number of requests that has happened in the past `3000` milliseconds (including the new request). Specifically, return the number of requests that have happened in the inclusive range `[t - 3000, t]`.\n",
    "\n",
    "It is **guaranteed** that every call to `ping` uses a strictly larger value of `t` than the previous call.\n",
    "\n",
    "**Example 1:**\n",
    "    \n",
    "Input\n",
    "    \n",
    "[\"RecentCounter\", \"ping\", \"ping\", \"ping\", \"ping\"]\n",
    "[[], [1], [100], [3001], [3002]]\n",
    "    \n",
    "Output\n",
    "    \n",
    "[null, 1, 2, 3, 3]\n",
    "\n",
    "Explanation\n",
    "    \n",
    "RecentCounter recentCounter = new RecentCounter();\n",
    "    \n",
    "recentCounter.ping(1);     // requests = [1], range is [-2999,1], return 1\n",
    "    \n",
    "recentCounter.ping(100);   // requests = [1,100], range is [-2900,100], return 2\n",
    "    \n",
    "recentCounter.ping(3001);  // requests = [1,100,3001], range is [1,3001], return 3\n",
    "    \n",
    "recentCounter.ping(3002);  // requests = [1,100,3001,3002], range is [2,3002], return 3\n",
    "\n",
    "</aside>"
   ]
  },
  {
   "cell_type": "code",
   "execution_count": 14,
   "id": "23492034",
   "metadata": {},
   "outputs": [],
   "source": [
    "from collections import deque\n",
    "\n",
    "class RecentCounter:\n",
    "    def __init__(self):\n",
    "        self.requests = deque()\n",
    "\n",
    "    def ping(self, t: int) -> int:\n",
    "        self.requests.append(t)\n",
    "        while self.requests[0] < t - 3000:\n",
    "            self.requests.popleft()\n",
    "        return len(self.requests)\n"
   ]
  },
  {
   "cell_type": "code",
   "execution_count": 15,
   "id": "cee2c429",
   "metadata": {},
   "outputs": [
    {
     "name": "stdout",
     "output_type": "stream",
     "text": [
      "1\n",
      "2\n",
      "3\n",
      "3\n"
     ]
    }
   ],
   "source": [
    "recentCounter = RecentCounter()\n",
    "print(recentCounter.ping(1))    # Output: 1\n",
    "print(recentCounter.ping(100))  # Output: 2\n",
    "print(recentCounter.ping(3001)) # Output: 3\n",
    "print(recentCounter.ping(3002)) # Output: 3\n"
   ]
  },
  {
   "cell_type": "markdown",
   "id": "be3c112c",
   "metadata": {},
   "source": [
    "# <aside>\n",
    "💡 **Question 5**\n",
    "\n",
    "There are `n` friends that are playing a game. The friends are sitting in a circle and are numbered from `1` to `n` in **clockwise order**. More formally, moving clockwise from the `ith` friend brings you to the `(i+1)th` friend for `1 <= i < n`, and moving clockwise from the `nth` friend brings you to the `1st` friend.\n",
    "\n",
    "The rules of the game are as follows:\n",
    "\n",
    "1. **Start** at the `1st` friend.\n",
    "2. Count the next `k` friends in the clockwise direction **including** the friend you started at. The counting wraps around the circle and may count some friends more than once.\n",
    "3. The last friend you counted leaves the circle and loses the game.\n",
    "4. If there is still more than one friend in the circle, go back to step `2` **starting** from the friend **immediately clockwise** of the friend who just lost and repeat.\n",
    "5. Else, the last friend in the circle wins the game.\n",
    "\n",
    "Given the number of friends, `n`, and an integer `k`, return *the winner of the game*.\n",
    "\n",
    "**Example 1:**\n",
    "  \n",
    "</aside>"
   ]
  },
  {
   "cell_type": "markdown",
   "id": "7bcb16c3",
   "metadata": {},
   "source": [
    "![](ic234-q2-ex11.png)"
   ]
  },
  {
   "cell_type": "markdown",
   "id": "6e5a59dd",
   "metadata": {},
   "source": [
    "Input: n = 5, k = 2\n",
    "    \n",
    "Output: 3\n",
    "    \n",
    "Explanation: Here are the steps of the game:\n",
    "        \n",
    "1) Start at friend 1.\n",
    "\n",
    "2) Count 2 friends clockwise, which are friends 1 and 2.\n",
    "\n",
    "3) Friend 2 leaves the circle. Next start is friend 3.\n",
    "\n",
    "4) Count 2 friends clockwise, which are friends 3 and 4.\n",
    "\n",
    "5) Friend 4 leaves the circle. Next start is friend 5.\n",
    "\n",
    "6) Count 2 friends clockwise, which are friends 5 and 1.\n",
    "\n",
    "7) Friend 1 leaves the circle. Next start is friend 3.\n",
    "\n",
    "8) Count 2 friends clockwise, which are friends 3 and 5.\n",
    "\n",
    "9) Friend 5 leaves the circle. Only friend 3 is left, so they are the winner."
   ]
  },
  {
   "cell_type": "code",
   "execution_count": 17,
   "id": "2508d61f",
   "metadata": {},
   "outputs": [
    {
     "name": "stdout",
     "output_type": "stream",
     "text": [
      "3\n"
     ]
    }
   ],
   "source": [
    "def find_winner(n, k):\n",
    "    circle = list(range(1, n + 1))\n",
    "    current = 0\n",
    "\n",
    "    while len(circle) > 1:\n",
    "        current = (current + k - 1) % len(circle)\n",
    "        circle.pop(current)\n",
    "\n",
    "    return circle[0]\n",
    "\n",
    "# Example usage:\n",
    "n = 5\n",
    "k = 2\n",
    "winner = find_winner(n, k)\n",
    "print(winner)  # Output: 3\n"
   ]
  },
  {
   "cell_type": "markdown",
   "id": "bed091e2",
   "metadata": {},
   "source": [
    "#### Example 2:\n",
    "\n",
    "Input: n = 6, k = 5\n",
    "\n",
    "Output: 1\n",
    "\n",
    "Explanation: The friends leave in this order: 5, 4, 6, 2, 3. The winner is friend 1.\n"
   ]
  },
  {
   "cell_type": "code",
   "execution_count": 2,
   "id": "0e866781",
   "metadata": {},
   "outputs": [
    {
     "name": "stdout",
     "output_type": "stream",
     "text": [
      "1\n"
     ]
    }
   ],
   "source": [
    "def find_winner(n, k):\n",
    "    circle = list(range(1, n + 1))\n",
    "    current = 0\n",
    "\n",
    "    while len(circle) > 1:\n",
    "        current = (current + k - 1) % len(circle)\n",
    "        circle.pop(current)\n",
    "\n",
    "    return circle[0]\n",
    "\n",
    "# Example usage:\n",
    "n = 6\n",
    "k = 5\n",
    "winner = find_winner(n, k)\n",
    "print(winner)  # Output: 3\n"
   ]
  },
  {
   "cell_type": "markdown",
   "id": "a303edc7",
   "metadata": {},
   "source": [
    "# <aside>\n",
    "💡 **Question 6**\n",
    "\n",
    "You are given an integer array `deck`. There is a deck of cards where every card has a unique integer. The integer on the `ith` card is `deck[i]`.\n",
    "\n",
    "You can order the deck in any order you want. Initially, all the cards start face down (unrevealed) in one deck.\n",
    "\n",
    "You will do the following steps repeatedly until all cards are revealed:\n",
    "\n",
    "1. Take the top card of the deck, reveal it, and take it out of the deck.\n",
    "2. If there are still cards in the deck then put the next top card of the deck at the bottom of the deck.\n",
    "3. If there are still unrevealed cards, go back to step 1. Otherwise, stop.\n",
    "\n",
    "Return *an ordering of the deck that would reveal the cards in increasing order*.\n",
    "\n",
    "**Note** that the first entry in the answer is considered to be the top of the deck.\n",
    "\n",
    "**Example 1:**\n",
    "    \n",
    "Input: deck = [17,13,11,2,3,5,7]\n",
    "    \n",
    "Output: [2,13,3,11,5,17,7]\n",
    "    \n",
    "Explanation:\n",
    "    \n",
    "We get the deck in the order [17,13,11,2,3,5,7] (this order does not matter), and reorder it.\n",
    "    \n",
    "After reordering, the deck starts as [2,13,3,11,5,17,7], where 2 is the top of the deck.\n",
    "    \n",
    "We reveal 2, and move 13 to the bottom.  The deck is now [3,11,5,17,7,13].\n",
    "    \n",
    "We reveal 3, and move 11 to the bottom.  The deck is now [5,17,7,13,11].\n",
    "    \n",
    "We reveal 5, and move 17 to the bottom.  The deck is now [7,13,11,17].\n",
    "    \n",
    "We reveal 7, and move 13 to the bottom.  The deck is now [11,17,13].\n",
    "    \n",
    "We reveal 11, and move 17 to the bottom.  The deck is now [13,17].\n",
    "    \n",
    "We reveal 13, and move 17 to the bottom.  The deck is now [17].\n",
    "    \n",
    "We reveal 17.\n",
    "    \n",
    "Since all the cards revealed are in increasing order, the answer is correct.\n",
    "\n",
    "    \n",
    "\n",
    "\n",
    "\n",
    "</aside>"
   ]
  },
  {
   "cell_type": "code",
   "execution_count": 3,
   "id": "e0304387",
   "metadata": {},
   "outputs": [],
   "source": [
    "def deckRevealedIncreasing(deck):\n",
    "    # Step 1: Sort the input array\n",
    "    deck.sort()\n",
    "\n",
    "    # Step 2: Initialize an empty stack\n",
    "    revealed = []\n",
    "\n",
    "    # Step 3: Simulate card revealing process\n",
    "    for card in deck:\n",
    "        if revealed:\n",
    "            top_card = revealed.pop()\n",
    "            revealed.insert(0, top_card)\n",
    "        revealed.insert(0, card)\n",
    "\n",
    "    # Step 4: Populate the result array\n",
    "    result = []\n",
    "    while revealed:\n",
    "        result.insert(0, revealed.pop())\n",
    "\n",
    "    # Step 5: Return the result\n",
    "    return result\n"
   ]
  },
  {
   "cell_type": "code",
   "execution_count": 4,
   "id": "3840574f",
   "metadata": {},
   "outputs": [
    {
     "name": "stdout",
     "output_type": "stream",
     "text": [
      "[17, 3, 13, 5, 11, 2, 7]\n"
     ]
    }
   ],
   "source": [
    "deck = [17, 13, 11, 2, 3, 5, 7]\n",
    "result = deckRevealedIncreasing(deck)\n",
    "print(result)\n"
   ]
  },
  {
   "cell_type": "markdown",
   "id": "fb4dc79e",
   "metadata": {},
   "source": [
    "#### Example 2:\n",
    "    \n",
    "Input: deck = [1,1000]\n",
    "    \n",
    "Output: [1,1000]"
   ]
  },
  {
   "cell_type": "code",
   "execution_count": 5,
   "id": "97cb4819",
   "metadata": {},
   "outputs": [],
   "source": [
    "def deckRevealedIncreasing(deck):\n",
    "    # Step 1: Sort the input array\n",
    "    deck.sort()\n",
    "\n",
    "    # Step 2: Initialize an empty array\n",
    "    revealed = []\n",
    "\n",
    "    # Step 3: Simulate card revealing process\n",
    "    while deck:\n",
    "        card = deck.pop()\n",
    "        if revealed:\n",
    "            top_card = revealed.pop(0)\n",
    "            revealed.append(top_card)\n",
    "        revealed.append(card)\n",
    "\n",
    "    # Step 4: Return the result\n",
    "    return revealed\n"
   ]
  },
  {
   "cell_type": "code",
   "execution_count": 6,
   "id": "2438050b",
   "metadata": {},
   "outputs": [
    {
     "name": "stdout",
     "output_type": "stream",
     "text": [
      "[1000, 1]\n"
     ]
    }
   ],
   "source": [
    "deck = [1, 1000]\n",
    "result = deckRevealedIncreasing(deck)\n",
    "print(result)\n"
   ]
  },
  {
   "cell_type": "markdown",
   "id": "849621f7",
   "metadata": {},
   "source": [
    "# <aside>\n",
    "💡 **Question 7**\n",
    "\n",
    "Design a queue that supports `push` and `pop` operations in the front, middle, and back.\n",
    "\n",
    "Implement the `FrontMiddleBack` class:\n",
    "\n",
    "- `FrontMiddleBack()` Initializes the queue.\n",
    "- `void pushFront(int val)` Adds `val` to the **front** of the queue.\n",
    "- `void pushMiddle(int val)` Adds `val` to the **middle** of the queue.\n",
    "- `void pushBack(int val)` Adds `val` to the **back** of the queue.\n",
    "- `int popFront()` Removes the **front** element of the queue and returns it. If the queue is empty, return `1`.\n",
    "- `int popMiddle()` Removes the **middle** element of the queue and returns it. If the queue is empty, return `1`.\n",
    "- `int popBack()` Removes the **back** element of the queue and returns it. If the queue is empty, return `1`.\n",
    "\n",
    "**Notice** that when there are **two** middle position choices, the operation is performed on the **frontmost** middle position choice. For example:\n",
    "\n",
    "- Pushing `6` into the middle of `[1, 2, 3, 4, 5]` results in `[1, 2, 6, 3, 4, 5]`.\n",
    "- Popping the middle from `[1, 2, 3, 4, 5, 6]` returns `3` and results in `[1, 2, 4, 5, 6]`.\n",
    "\n",
    "**Example 1:**\n",
    "    \n",
    "Input:\n",
    "[\"FrontMiddleBackQueue\", \"pushFront\", \"pushBack\", \"pushMiddle\", \"pushMiddle\", \"popFront\", \"popMiddle\", \"popMiddle\", \"popBack\", \"popFront\"]\n",
    "    \n",
    "[[], [1], [2], [3], [4], [], [], [], [], []]\n",
    "    \n",
    "Output:\n",
    "    \n",
    "[null, null, null, null, null, 1, 3, 4, 2, -1]\n",
    "\n",
    "Explanation:\n",
    "    \n",
    "FrontMiddleBackQueue q = new FrontMiddleBackQueue();\n",
    "    \n",
    "q.pushFront(1);   // [1]\n",
    "    \n",
    "q.pushBack(2);    // [1,2]\n",
    "    \n",
    "q.pushMiddle(3);  // [1,3, 2]\n",
    "    \n",
    "q.pushMiddle(4);  // [1,4, 3, 2]\n",
    "    \n",
    "q.popFront();     // return 1 -> [4, 3, 2]\n",
    "    \n",
    "q.popMiddle();    // return 3 -> [4, 2]\n",
    "    \n",
    "q.popMiddle();    // return 4 -> [2]\n",
    "    \n",
    "q.popBack();      // return 2 -> []\n",
    "    \n",
    "q.popFront();     // return -1 -> [] (The queue is empty)\n",
    "\n",
    "</aside>"
   ]
  },
  {
   "cell_type": "code",
   "execution_count": 7,
   "id": "584d83aa",
   "metadata": {},
   "outputs": [],
   "source": [
    "class FrontMiddleBackQueue:\n",
    "    def __init__(self):\n",
    "        self.front = []\n",
    "        self.back = []\n",
    "\n",
    "    def pushFront(self, val):\n",
    "        self.front.append(val)\n",
    "\n",
    "    def pushMiddle(self, val):\n",
    "        if len(self.front) > len(self.back):\n",
    "            self.back.append(self.front.pop())\n",
    "        self.front.append(val)\n",
    "\n",
    "    def pushBack(self, val):\n",
    "        self.back.append(val)\n",
    "\n",
    "    def popFront(self):\n",
    "        if self.front:\n",
    "            return self.front.pop(0)\n",
    "        elif self.back:\n",
    "            return self.back.pop(0)\n",
    "        else:\n",
    "            return -1\n",
    "\n",
    "    def popMiddle(self):\n",
    "        if len(self.front) > len(self.back):\n",
    "            return self.front.pop()\n",
    "        elif self.back:\n",
    "            return self.back.pop(0)\n",
    "        else:\n",
    "            return -1\n",
    "\n",
    "    def popBack(self):\n",
    "        if self.back:\n",
    "            return self.back.pop()\n",
    "        elif self.front:\n",
    "            return self.front.pop()\n",
    "        else:\n",
    "            return -1\n"
   ]
  },
  {
   "cell_type": "code",
   "execution_count": 8,
   "id": "d4e92af6",
   "metadata": {},
   "outputs": [
    {
     "name": "stdout",
     "output_type": "stream",
     "text": [
      "1\n",
      "2\n",
      "3\n",
      "4\n",
      "-1\n"
     ]
    }
   ],
   "source": [
    "q = FrontMiddleBackQueue()\n",
    "q.pushFront(1)    # [1]\n",
    "q.pushBack(2)     # [1, 2]\n",
    "q.pushMiddle(3)   # [1, 3, 2]\n",
    "q.pushMiddle(4)   # [1, 4, 3, 2]\n",
    "print(q.popFront())     # Output: 1, Queue: [4, 3, 2]\n",
    "print(q.popMiddle())    # Output: 3, Queue: [4, 2]\n",
    "print(q.popMiddle())    # Output: 4, Queue: [2]\n",
    "print(q.popBack())      # Output: 2, Queue: []\n",
    "print(q.popFront())     # Output: -1, Queue: []\n"
   ]
  },
  {
   "cell_type": "markdown",
   "id": "38e47d2d",
   "metadata": {},
   "source": [
    "# <aside>\n",
    "💡 **Question 8**\n",
    "\n",
    "For a stream of integers, implement a data structure that checks if the last `k` integers parsed in the stream are **equal** to `value`.\n",
    "\n",
    "Implement the **DataStream** class:\n",
    "\n",
    "- `DataStream(int value, int k)` Initializes the object with an empty integer stream and the two integers `value` and `k`.\n",
    "- `boolean consec(int num)` Adds `num` to the stream of integers. Returns `true` if the last `k` integers are equal to `value`, and `false` otherwise. If there are less than `k` integers, the condition does not hold true, so returns `false`.\n",
    "\n",
    "**Example 1:**\n",
    "\n",
    "Input\n",
    "[\"DataStream\", \"consec\", \"consec\", \"consec\", \"consec\"]\n",
    "    \n",
    "[[4, 3], [4], [4], [4], [3]]\n",
    "    \n",
    "Output\n",
    "    \n",
    "[null, false, false, true, false]\n",
    "\n",
    "Explanation\n",
    "    \n",
    "DataStream dataStream = new DataStream(4, 3); //value = 4, k = 3\n",
    "    \n",
    "dataStream.consec(4); // Only 1 integer is parsed, so returns False.\n",
    "    \n",
    "dataStream.consec(4); // Only 2 integers are parsed.\n",
    "    \n",
    "                      // Since 2 is less than k, returns False.\n",
    "    \n",
    "dataStream.consec(4); // The 3 integers parsed are all equal to value, so returns True.\n",
    "    \n",
    "dataStream.consec(3); // The last k integers parsed in the stream are [4,4,3].\n",
    "    \n",
    "                      // Since 3 is not equal to value, it returns False.\n",
    "</aside>"
   ]
  },
  {
   "cell_type": "code",
   "execution_count": 9,
   "id": "38fdcfdf",
   "metadata": {},
   "outputs": [],
   "source": [
    "class DataStream:\n",
    "    def __init__(self, value, k):\n",
    "        self.value = value\n",
    "        self.k = k\n",
    "        self.stream = []\n",
    "\n",
    "    def consec(self, num):\n",
    "        self.stream.append(num)\n",
    "        if len(self.stream) < self.k:\n",
    "            return False\n",
    "        elif len(self.stream) > self.k:\n",
    "            self.stream = self.stream[-self.k:]\n",
    "        return all(x == self.value for x in self.stream)\n"
   ]
  },
  {
   "cell_type": "code",
   "execution_count": 10,
   "id": "27e66721",
   "metadata": {},
   "outputs": [
    {
     "name": "stdout",
     "output_type": "stream",
     "text": [
      "False\n",
      "False\n",
      "True\n",
      "False\n"
     ]
    }
   ],
   "source": [
    "ds = DataStream(4, 3)\n",
    "print(ds.consec(4))  # None\n",
    "print(ds.consec(4))  # False\n",
    "print(ds.consec(4))  # False\n",
    "print(ds.consec(3))  # False\n"
   ]
  },
  {
   "cell_type": "code",
   "execution_count": null,
   "id": "f92222d0",
   "metadata": {},
   "outputs": [],
   "source": []
  }
 ],
 "metadata": {
  "kernelspec": {
   "display_name": "Python 3 (ipykernel)",
   "language": "python",
   "name": "python3"
  },
  "language_info": {
   "codemirror_mode": {
    "name": "ipython",
    "version": 3
   },
   "file_extension": ".py",
   "mimetype": "text/x-python",
   "name": "python",
   "nbconvert_exporter": "python",
   "pygments_lexer": "ipython3",
   "version": "3.10.9"
  }
 },
 "nbformat": 4,
 "nbformat_minor": 5
}
