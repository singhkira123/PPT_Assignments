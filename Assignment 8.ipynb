{
 "cells": [
  {
   "cell_type": "markdown",
   "id": "906b017c",
   "metadata": {},
   "source": [
    "# Assignment 8 Solution"
   ]
  },
  {
   "cell_type": "markdown",
   "id": "54c9dcc4",
   "metadata": {},
   "source": [
    "<aside>\n",
    "💡 **Question 1**\n",
    "\n",
    "Given two strings s1 and s2, return *the lowest **ASCII** sum of deleted characters to make two strings equal*.\n",
    "\n",
    "**Example 1:**\n",
    "\n",
    "**Input:** s1 = \"sea\", s2 = \"eat\"\n",
    "\n",
    "**Output:** 231\n",
    "\n",
    "**Explanation:** Deleting \"s\" from \"sea\" adds the ASCII value of \"s\" (115) to the sum.\n",
    "\n",
    "Deleting \"t\" from \"eat\" adds 116 to the sum.\n",
    "\n",
    "At the end, both strings are equal, and 115 + 116 = 231 is the minimum sum possible to achieve this.\n",
    "\n",
    "</aside>"
   ]
  },
  {
   "cell_type": "code",
   "execution_count": 1,
   "id": "e650b8d4",
   "metadata": {},
   "outputs": [],
   "source": [
    "def minimumDeleteSum(s1, s2):\n",
    "    m, n = len(s1), len(s2)\n",
    "    dp = [[0] * (n + 1) for _ in range(m + 1)]\n",
    "\n",
    "    # Initialize base cases\n",
    "    for i in range(m - 1, -1, -1):\n",
    "        dp[i][n] = dp[i+1][n] + ord(s1[i])\n",
    "    for j in range(n - 1, -1, -1):\n",
    "        dp[m][j] = dp[m][j+1] + ord(s2[j])\n",
    "\n",
    "    # Fill the dp array\n",
    "    for i in range(m - 1, -1, -1):\n",
    "        for j in range(n - 1, -1, -1):\n",
    "            if s1[i] == s2[j]:\n",
    "                dp[i][j] = dp[i+1][j+1]\n",
    "            else:\n",
    "                dp[i][j] = min(dp[i+1][j] + ord(s1[i]), dp[i][j+1] + ord(s2[j]))\n",
    "\n",
    "    return dp[0][0]\n"
   ]
  },
  {
   "cell_type": "code",
   "execution_count": 2,
   "id": "bb5d7d7c",
   "metadata": {},
   "outputs": [
    {
     "name": "stdout",
     "output_type": "stream",
     "text": [
      "231\n"
     ]
    }
   ],
   "source": [
    "s1 = \"sea\"\n",
    "s2 = \"eat\"\n",
    "result = minimumDeleteSum(s1, s2)\n",
    "print(result)  # Output: 231\n"
   ]
  },
  {
   "cell_type": "markdown",
   "id": "222d8a55",
   "metadata": {},
   "source": [
    "<aside>\n",
    "💡 **Question 2**\n",
    "\n",
    "Given a string s containing only three types of characters: '(', ')' and '*', return true *if* s *is **valid***.\n",
    "\n",
    "The following rules define a **valid** string:\n",
    "\n",
    "- Any left parenthesis '(' must have a corresponding right parenthesis ')'.\n",
    "- Any right parenthesis ')' must have a corresponding left parenthesis '('.\n",
    "- Left parenthesis '(' must go before the corresponding right parenthesis ')'.\n",
    "- '*' could be treated as a single right parenthesis ')' or a single left parenthesis '(' or an empty string \"\".\n",
    "\n",
    "**Example 1:**\n",
    "\n",
    "**Input:** s = \"()\"\n",
    "\n",
    "**Output:**\n",
    "\n",
    "true\n",
    "\n",
    "</aside>"
   ]
  },
  {
   "cell_type": "code",
   "execution_count": 3,
   "id": "277036fb",
   "metadata": {},
   "outputs": [],
   "source": [
    "def is_valid(s):\n",
    "    stack = []\n",
    "    asterisks = []\n",
    "    \n",
    "    for c in s:\n",
    "        if c == '(':\n",
    "            stack.append(c)\n",
    "        elif c == '*':\n",
    "            asterisks.append(c)\n",
    "        elif c == ')':\n",
    "            if stack:\n",
    "                stack.pop()\n",
    "            elif asterisks:\n",
    "                asterisks.pop()\n",
    "            else:\n",
    "                return False\n",
    "    \n",
    "    while stack:\n",
    "        if asterisks:\n",
    "            stack.pop()\n",
    "            asterisks.pop()\n",
    "        else:\n",
    "            return False\n",
    "    \n",
    "    return True\n"
   ]
  },
  {
   "cell_type": "code",
   "execution_count": 4,
   "id": "af86a0ad",
   "metadata": {},
   "outputs": [
    {
     "name": "stdout",
     "output_type": "stream",
     "text": [
      "True\n"
     ]
    }
   ],
   "source": [
    "s = \"()\"\n",
    "print(is_valid(s))  # Output: True\n"
   ]
  },
  {
   "cell_type": "markdown",
   "id": "e85f06a1",
   "metadata": {},
   "source": [
    "# <aside>\n",
    "💡 **Question 3**\n",
    "\n",
    "Given two strings word1 and word2, return *the minimum number of **steps** required to make* word1 *and* word2 *the same*.\n",
    "\n",
    "In one **step**, you can delete exactly one character in either string.\n",
    "\n",
    "**Example 1:**\n",
    "\n",
    "**Input:** word1 = \"sea\", word2 = \"eat\"\n",
    "\n",
    "**Output:** 2\n",
    "\n",
    "**Explanation:** You need one step to make \"sea\" to \"ea\" and another step to make \"eat\" to \"ea\".\n",
    "\n",
    "</aside>"
   ]
  },
  {
   "cell_type": "code",
   "execution_count": 5,
   "id": "9ef11a64",
   "metadata": {},
   "outputs": [],
   "source": [
    "def minDistance(word1, word2):\n",
    "    m = len(word1)\n",
    "    n = len(word2)\n",
    "    \n",
    "    dp = [[0] * (n + 1) for _ in range(m + 1)]\n",
    "    \n",
    "    # Initialize the first row and first column\n",
    "    for i in range(m + 1):\n",
    "        dp[i][0] = i\n",
    "    for j in range(n + 1):\n",
    "        dp[0][j] = j\n",
    "    \n",
    "    # Fill the dp array\n",
    "    for i in range(1, m + 1):\n",
    "        for j in range(1, n + 1):\n",
    "            if word1[i - 1] == word2[j - 1]:\n",
    "                dp[i][j] = dp[i - 1][j - 1]\n",
    "            else:\n",
    "                dp[i][j] = 1 + min(dp[i - 1][j], dp[i][j - 1])\n",
    "    \n",
    "    return dp[m][n]\n"
   ]
  },
  {
   "cell_type": "code",
   "execution_count": 6,
   "id": "79986543",
   "metadata": {},
   "outputs": [
    {
     "name": "stdout",
     "output_type": "stream",
     "text": [
      "2\n"
     ]
    }
   ],
   "source": [
    "word1 = \"sea\"\n",
    "word2 = \"eat\"\n",
    "print(minDistance(word1, word2))  # Output: 2\n"
   ]
  },
  {
   "cell_type": "markdown",
   "id": "98912afc",
   "metadata": {},
   "source": [
    "# <aside>\n",
    "💡 **Question 4**\n",
    "\n",
    "You need to construct a binary tree from a string consisting of parenthesis and integers.\n",
    "\n",
    "The whole input represents a binary tree. It contains an integer followed by zero, one or two pairs of parenthesis. The integer represents the root's value and a pair of parenthesis contains a child binary tree with the same structure.\n",
    "You always start to construct the **left** child node of the parent first if it exists.\n",
    "\n",
    "![Screenshot 2023-05-29 010548.png](https://s3-us-west-2.amazonaws.com/secure.notion-static.com/bdbea2d1-34a4-4c4b-a450-ea6db7410c43/Screenshot_2023-05-29_010548.png)\n",
    "\n",
    "**Input:** s = \"4(2(3)(1))(6(5))\"\n",
    "\n",
    "**Output:** [4,2,6,3,1,5]\n",
    "\n",
    "</aside>"
   ]
  },
  {
   "cell_type": "code",
   "execution_count": 7,
   "id": "c237202a",
   "metadata": {},
   "outputs": [],
   "source": [
    "class TreeNode:\n",
    "    def __init__(self, val=0, left=None, right=None):\n",
    "        self.val = val\n",
    "        self.left = left\n",
    "        self.right = right\n",
    "class Solution:\n",
    "    def str2tree(self, s: str) -> TreeNode:\n",
    "        if not s:\n",
    "            return None\n",
    "        stack = []\n",
    "        i = 0\n",
    "        while i < len(s):\n",
    "            if s[i] == ')':\n",
    "                stack.pop()\n",
    "            elif s[i] not in '()':\n",
    "                start = i\n",
    "                while i + 1 < len(s) and s[i + 1] not in '()':\n",
    "                    i += 1\n",
    "                node = TreeNode(int(s[start:i + 1]))\n",
    "                if stack:\n",
    "                    parent = stack[-1]\n",
    "                    if parent.left:\n",
    "                        parent.right = node\n",
    "                    else:\n",
    "                        parent.left = node\n",
    "                stack.append(node)\n",
    "            i += 1\n",
    "        return stack[0]"
   ]
  },
  {
   "cell_type": "code",
   "execution_count": 8,
   "id": "d0ea96c4",
   "metadata": {},
   "outputs": [
    {
     "name": "stdout",
     "output_type": "stream",
     "text": [
      "[4, 2, 6, 3, 1, 5]\n"
     ]
    }
   ],
   "source": [
    "s = Solution()\n",
    "tree = s.str2tree(\"4(2(3)(1))(6(5))\")\n",
    "\n",
    "def level_order_traversal(root):\n",
    "    if not root:\n",
    "        return []\n",
    "    queue = [root]\n",
    "    result = []\n",
    "    while queue:\n",
    "        node = queue.pop(0)\n",
    "        result.append(node.val)\n",
    "        if node.left:\n",
    "            queue.append(node.left)\n",
    "        if node.right:\n",
    "            queue.append(node.right)\n",
    "    return result\n",
    "\n",
    "output = level_order_traversal(tree)\n",
    "print(output) # [4, 2, 6, 3, 1, 5]\n"
   ]
  },
  {
   "cell_type": "markdown",
   "id": "df99ce7a",
   "metadata": {},
   "source": [
    "# <aside>\n",
    "💡 **Question 5**\n",
    "\n",
    "Given an array of characters chars, compress it using the following algorithm:\n",
    "\n",
    "Begin with an empty string s. For each group of **consecutive repeating characters** in chars:\n",
    "\n",
    "- If the group's length is 1, append the character to s.\n",
    "- Otherwise, append the character followed by the group's length.\n",
    "\n",
    "The compressed string s **should not be returned separately**, but instead, be stored **in the input character array chars**. Note that group lengths that are 10 or longer will be split into multiple characters in chars.\n",
    "\n",
    "After you are done **modifying the input array,** return *the new length of the array*.\n",
    "\n",
    "You must write an algorithm that uses only constant extra space.\n",
    "\n",
    "**Example 1:**\n",
    "\n",
    "**Input:** chars = [\"a\",\"a\",\"b\",\"b\",\"c\",\"c\",\"c\"]\n",
    "\n",
    "**Output:** Return 6, and the first 6 characters of the input array should be: [\"a\",\"2\",\"b\",\"2\",\"c\",\"3\"]\n",
    "\n",
    "**Explanation:**\n",
    "\n",
    "The groups are \"aa\", \"bb\", and \"ccc\". This compresses to \"a2b2c3\".\n",
    "\n",
    "</aside>"
   ]
  },
  {
   "cell_type": "code",
   "execution_count": 9,
   "id": "73ff9094",
   "metadata": {},
   "outputs": [],
   "source": [
    "def compress(chars):\n",
    "    readPtr = 0  # Pointer to read characters\n",
    "    writePtr = 0  # Pointer to write compressed characters\n",
    "    count = 0  # Counter for consecutive repeating characters\n",
    "\n",
    "    # Iterate through the array\n",
    "    while readPtr < len(chars):\n",
    "        currentChar = chars[readPtr]\n",
    "\n",
    "        # Increment the count for consecutive repeating characters\n",
    "        while readPtr < len(chars) and chars[readPtr] == currentChar:\n",
    "            readPtr += 1\n",
    "            count += 1\n",
    "\n",
    "        # Write the compressed character and its count\n",
    "        chars[writePtr] = currentChar\n",
    "        writePtr += 1\n",
    "\n",
    "        if count > 1:\n",
    "            countStr = str(count)\n",
    "            chars[writePtr:writePtr+len(countStr)] = countStr\n",
    "            writePtr += len(countStr)\n",
    "\n",
    "        # Reset the count for the next group of consecutive characters\n",
    "        count = 0\n",
    "\n",
    "    return writePtr"
   ]
  },
  {
   "cell_type": "code",
   "execution_count": 10,
   "id": "c93290a2",
   "metadata": {},
   "outputs": [
    {
     "name": "stdout",
     "output_type": "stream",
     "text": [
      "Compressed Length: 6\n",
      "Compressed Array: ['a', '2', 'b', '2', 'c', '3']\n"
     ]
    }
   ],
   "source": [
    "chars = [\"a\", \"a\", \"b\", \"b\", \"c\", \"c\", \"c\"]\n",
    "compressed_length = compress(chars)\n",
    "\n",
    "print(f\"Compressed Length: {compressed_length}\")\n",
    "print(f\"Compressed Array: {chars[:compressed_length]}\")\n"
   ]
  },
  {
   "cell_type": "markdown",
   "id": "2441cf79",
   "metadata": {},
   "source": [
    "# <aside>\n",
    "💡 **Question 6**\n",
    "\n",
    "Given two strings s and p, return *an array of all the start indices of* p*'s anagrams in* s. You may return the answer in **any order**.\n",
    "\n",
    "An **Anagram** is a word or phrase formed by rearranging the letters of a different word or phrase, typically using all the original letters exactly once.\n",
    "\n",
    "**Example 1:**\n",
    "\n",
    "**Input:** s = \"cbaebabacd\", p = \"abc\"\n",
    "\n",
    "**Output:** [0,6]\n",
    "\n",
    "**Explanation:**\n",
    "\n",
    "The substring with start index = 0 is \"cba\", which is an anagram of \"abc\".\n",
    "\n",
    "The substring with start index = 6 is \"bac\", which is an anagram of \"abc\".\n",
    "\n",
    "</aside>"
   ]
  },
  {
   "cell_type": "code",
   "execution_count": 11,
   "id": "e8052db7",
   "metadata": {},
   "outputs": [],
   "source": [
    "def findAnagrams(s, p):\n",
    "    result = []\n",
    "    sCount = [0] * 26\n",
    "    pCount = [0] * 26\n",
    "\n",
    "    for ch in p:\n",
    "        pCount[ord(ch) - ord('a')] += 1\n",
    "\n",
    "    left, right, count = 0, 0, 0\n",
    "    while right < len(s):\n",
    "        sCount[ord(s[right]) - ord('a')] += 1\n",
    "        if sCount[ord(s[right]) - ord('a')] <= pCount[ord(s[right]) - ord('a')]:\n",
    "            count += 1\n",
    "\n",
    "        if right - left + 1 == len(p):\n",
    "            if count == len(p):\n",
    "                result.append(left)\n",
    "\n",
    "            sCount[ord(s[left]) - ord('a')] -= 1\n",
    "            if sCount[ord(s[left]) - ord('a')] < pCount[ord(s[left]) - ord('a')]:\n",
    "                count -= 1\n",
    "\n",
    "            left += 1\n",
    "\n",
    "        right += 1\n",
    "\n",
    "    return result\n"
   ]
  },
  {
   "cell_type": "code",
   "execution_count": 12,
   "id": "c19c8772",
   "metadata": {},
   "outputs": [
    {
     "data": {
      "text/plain": [
       "[0, 6]"
      ]
     },
     "execution_count": 12,
     "metadata": {},
     "output_type": "execute_result"
    }
   ],
   "source": [
    "findAnagrams(\"cbaebabacd\", \"abc\")"
   ]
  },
  {
   "cell_type": "markdown",
   "id": "b015c001",
   "metadata": {},
   "source": [
    "# <aside>\n",
    "💡 **Question 7**\n",
    "\n",
    "Given an encoded string, return its decoded string.\n",
    "\n",
    "The encoding rule is: k[encoded_string], where the encoded_string inside the square brackets is being repeated exactly k times. Note that k is guaranteed to be a positive integer.\n",
    "\n",
    "You may assume that the input string is always valid; there are no extra white spaces, square brackets are well-formed, etc. Furthermore, you may assume that the original data does not contain any digits and that digits are only for those repeat numbers, k. For example, there will not be input like 3a or 2[4].\n",
    "\n",
    "The test cases are generated so that the length of the output will never exceed 105.\n",
    "\n",
    "**Example 1:**\n",
    "\n",
    "**Input:** s = \"3[a]2[bc]\"\n",
    "\n",
    "**Output:** \"aaabcbc\"\n",
    "\n",
    "</aside>"
   ]
  },
  {
   "cell_type": "code",
   "execution_count": 13,
   "id": "ba58f01a",
   "metadata": {},
   "outputs": [],
   "source": [
    "def decodeString(s):\n",
    "    stack = []\n",
    "    for char in s:\n",
    "        if char != ']':\n",
    "            stack.append(char)\n",
    "        else:\n",
    "            substring = ''\n",
    "            while stack[-1] != '[':\n",
    "                substring = stack.pop() + substring\n",
    "            stack.pop()  # Remove '['\n",
    "            \n",
    "            repeat_count = ''\n",
    "            while stack and stack[-1].isdigit():\n",
    "                repeat_count = stack.pop() + repeat_count\n",
    "            \n",
    "            repeat_count = int(repeat_count)\n",
    "            decoded_substring = substring * repeat_count\n",
    "            stack.append(decoded_substring)\n",
    "    \n",
    "    decoded_string = ''\n",
    "    while stack:\n",
    "        decoded_string = stack.pop() + decoded_string\n",
    "    \n",
    "    return decoded_string[::-1]\n"
   ]
  },
  {
   "cell_type": "code",
   "execution_count": 14,
   "id": "5be5916c",
   "metadata": {},
   "outputs": [
    {
     "data": {
      "text/plain": [
       "'cbcbaaa'"
      ]
     },
     "execution_count": 14,
     "metadata": {},
     "output_type": "execute_result"
    }
   ],
   "source": [
    "decodeString(\"3[a]2[bc]\")"
   ]
  },
  {
   "cell_type": "markdown",
   "id": "619c78c8",
   "metadata": {},
   "source": [
    "# <aside>\n",
    "💡 **Question 8**\n",
    "\n",
    "Given two strings s and goal, return true *if you can swap two letters in* s *so the result is equal to* goal*, otherwise, return* false*.*\n",
    "\n",
    "Swapping letters is defined as taking two indices i and j (0-indexed) such that i != j and swapping the characters at s[i] and s[j].\n",
    "\n",
    "- For example, swapping at indices 0 and 2 in \"abcd\" results in \"cbad\".\n",
    "\n",
    "**Example 1:**\n",
    "\n",
    "**Input:** s = \"ab\", goal = \"ba\"\n",
    "\n",
    "**Output:** true\n",
    "\n",
    "**Explanation:** You can swap s[0] = 'a' and s[1] = 'b' to get \"ba\", which is equal to goal.\n",
    "\n",
    "</aside>"
   ]
  },
  {
   "cell_type": "code",
   "execution_count": 15,
   "id": "423cdf9a",
   "metadata": {},
   "outputs": [
    {
     "name": "stdout",
     "output_type": "stream",
     "text": [
      "True\n"
     ]
    }
   ],
   "source": [
    "def can_swaptwo_letters(s, goal):\n",
    "    if len(s) != len(goal):\n",
    "        return False\n",
    "\n",
    "    diff_positions = []\n",
    "    for i in range(len(s)):\n",
    "        if s[i] != goal[i]:\n",
    "            diff_positions.append(i)\n",
    "\n",
    "    if len(diff_positions) != 2:\n",
    "        return False\n",
    "\n",
    "    # Check if swapping the characters at the different positions results in 'goal'\n",
    "    return s[diff_positions[0]] == goal[diff_positions[1]] and s[diff_positions[1]] == goal[diff_positions[0]]\n",
    "\n",
    "# Test the example case\n",
    "s = \"ab\"\n",
    "goal = \"ba\"\n",
    "print(can_swaptwo_letters(s, goal))  # Output: True\n"
   ]
  },
  {
   "cell_type": "code",
   "execution_count": null,
   "id": "908ea272",
   "metadata": {},
   "outputs": [],
   "source": []
  }
 ],
 "metadata": {
  "kernelspec": {
   "display_name": "Python 3 (ipykernel)",
   "language": "python",
   "name": "python3"
  },
  "language_info": {
   "codemirror_mode": {
    "name": "ipython",
    "version": 3
   },
   "file_extension": ".py",
   "mimetype": "text/x-python",
   "name": "python",
   "nbconvert_exporter": "python",
   "pygments_lexer": "ipython3",
   "version": "3.9.12"
  }
 },
 "nbformat": 4,
 "nbformat_minor": 5
}
