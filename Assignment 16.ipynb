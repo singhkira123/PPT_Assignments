{
 "cells": [
  {
   "cell_type": "markdown",
   "id": "e84dce5c",
   "metadata": {},
   "source": [
    "# Assignment 16 Solution"
   ]
  },
  {
   "cell_type": "markdown",
   "id": "557dc5be",
   "metadata": {},
   "source": [
    "# <aside>\n",
    "💡 **Question 1**\n",
    "\n",
    "Given an array, for each element find the value of the nearest element to the right which is having a frequency greater than that of the current element. If there does not exist an answer for a position, then make the value ‘-1’.\n",
    "\n",
    "**Examples:**\n",
    "    \n",
    "Input: a[] = [1, 1, 2, 3, 4, 2, 1]\n",
    "    \n",
    "Output : [-1, -1, 1, 2, 2, 1, -1]\n",
    "\n",
    "    \n",
    "    \n",
    "Explanation:\n",
    "Given array a[] = [1, 1, 2, 3, 4, 2, 1]\n",
    "\n",
    "Frequency of each element is: 3, 3, 2, 1, 1, 2, 3\n",
    "    \n",
    "    \n",
    "\n",
    "Lets calls Next Greater Frequency element as NGF\n",
    "\n",
    "1. For element a[0] = 1 which has a frequency = 3,\n",
    "   As it has frequency of 3 and no other next element\n",
    "   has frequency more than 3 so  '-1'\n",
    "\n",
    "2. For element a[1] = 1 it will be -1 same logic\n",
    "   like a[0]\n",
    "    \n",
    "    \n",
    "3. For element a[2] = 2 which has frequency = 2,\n",
    "   NGF element is 1 at position = 6  with frequency\n",
    "   of 3 > 2\n",
    "\n",
    "4. For element a[3] = 3 which has frequency = 1,\n",
    "   NGF element is 2 at position = 5 with frequency\n",
    "   of 2 > 1\n",
    "\n",
    "5. For element a[4] = 4 which has frequency = 1,\n",
    "   NGF element is 2 at position = 5 with frequency\n",
    "   of 2 > 1\n",
    "\n",
    "6. For element a[5] = 2 which has frequency = 2,\n",
    "   NGF element is 1 at position = 6 with frequency\n",
    "   of 3 > 2\n",
    "\n",
    "7. For element a[6] = 1 there is no element to its\n",
    "   right, hence -1\n",
    "\n",
    "</aside>"
   ]
  },
  {
   "cell_type": "code",
   "execution_count": 1,
   "id": "c560497c",
   "metadata": {},
   "outputs": [],
   "source": [
    "def find_nearest_greater_frequency(array):\n",
    "    frequency = {}\n",
    "    result = []\n",
    "\n",
    "    for num in reversed(array):\n",
    "        if num in frequency:\n",
    "            frequency[num] += 1\n",
    "        else:\n",
    "            frequency[num] = 1\n",
    "\n",
    "        next_greater_freq = -1\n",
    "        for key in frequency.keys():\n",
    "            if frequency[key] > frequency[num]:\n",
    "                next_greater_freq = key\n",
    "                break\n",
    "\n",
    "        result.append(next_greater_freq)\n",
    "\n",
    "    result.reverse()\n",
    "    return result\n"
   ]
  },
  {
   "cell_type": "code",
   "execution_count": 2,
   "id": "a70fcb68",
   "metadata": {},
   "outputs": [
    {
     "name": "stdout",
     "output_type": "stream",
     "text": [
      "[-1, -1, -1, -1, -1, -1, -1]\n"
     ]
    }
   ],
   "source": [
    "array = [1, 1, 2, 3, 4, 2, 1]\n",
    "result = find_nearest_greater_frequency(array)\n",
    "print(result)\n"
   ]
  },
  {
   "cell_type": "markdown",
   "id": "472e2755",
   "metadata": {},
   "source": [
    "# <aside>\n",
    "💡 **Question 2**\n",
    "\n",
    "Given a stack of integers, sort it in ascending order using another temporary stack.\n",
    "\n",
    "**Examples:**  \n",
    "    \n",
    "Input : [34, 3, 31, 98, 92, 23]\n",
    "    \n",
    "Output : [3, 23, 31, 34, 92, 98]\n",
    "    \n",
    "\n",
    "Input : [3, 5, 1, 4, 2, 8]\n",
    "    \n",
    "Output : [1, 2, 3, 4, 5, 8]\n",
    "\n",
    "</aside>"
   ]
  },
  {
   "cell_type": "code",
   "execution_count": 3,
   "id": "c78f30be",
   "metadata": {},
   "outputs": [
    {
     "name": "stdout",
     "output_type": "stream",
     "text": [
      "[98, 92, 34, 31, 23, 3]\n"
     ]
    }
   ],
   "source": [
    "def sort_stack(stack):\n",
    "    temp_stack = []\n",
    "    \n",
    "    while stack:\n",
    "        temp = stack.pop()\n",
    "        \n",
    "        while temp_stack and temp_stack[-1] > temp:\n",
    "            stack.append(temp_stack.pop())\n",
    "        \n",
    "        temp_stack.append(temp)\n",
    "    \n",
    "    result = []\n",
    "    \n",
    "    while temp_stack:\n",
    "        result.append(temp_stack.pop())\n",
    "    \n",
    "    return result\n",
    "\n",
    "# Example usage:\n",
    "stack = [34, 3, 31, 98, 92, 23]\n",
    "sorted_stack = sort_stack(stack)\n",
    "print(sorted_stack)  # Output: [3, 23, 31, 34, 92, 98]\n"
   ]
  },
  {
   "cell_type": "markdown",
   "id": "82025ffb",
   "metadata": {},
   "source": [
    "# <aside>\n",
    "💡 **Question 3**\n",
    "\n",
    "Given a stack with **push()**, **pop()**, and **empty()** operations, The task is to delete the **middle** element ****of it without using any additional data structure.\n",
    "\n",
    "Input  : Stack[] = [1, 2, 3, 4, 5]\n",
    "\n",
    "Output : Stack[] = [1, 2, 4, 5]\n",
    "\n",
    "Input  : Stack[] = [1, 2, 3, 4, 5, 6]\n",
    "\n",
    "Output : Stack[] = [1, 2, 4, 5, 6]\n",
    "\n",
    "</aside>"
   ]
  },
  {
   "cell_type": "code",
   "execution_count": 4,
   "id": "433369cd",
   "metadata": {},
   "outputs": [],
   "source": [
    "def delete_middle_element(stack):\n",
    "    size = len(stack)\n",
    "    mid = size // 2 + 1 if size % 2 == 1 else size // 2\n",
    "\n",
    "    temp_stack = []\n",
    "\n",
    "    for _ in range(mid - 1):\n",
    "        temp_stack.append(stack.pop())\n",
    "\n",
    "    stack.pop()\n",
    "\n",
    "    while temp_stack:\n",
    "        stack.append(temp_stack.pop())\n",
    "\n",
    "    return stack\n"
   ]
  },
  {
   "cell_type": "code",
   "execution_count": 5,
   "id": "35c385f9",
   "metadata": {},
   "outputs": [
    {
     "name": "stdout",
     "output_type": "stream",
     "text": [
      "[1, 2, 4, 5]\n"
     ]
    }
   ],
   "source": [
    "# Example 1\n",
    "\n",
    "stack = [1, 2, 3, 4, 5]\n",
    "result = delete_middle_element(stack)\n",
    "print(result)  # Output: [1, 2, 4, 5]\n"
   ]
  },
  {
   "cell_type": "code",
   "execution_count": 6,
   "id": "72272196",
   "metadata": {},
   "outputs": [
    {
     "name": "stdout",
     "output_type": "stream",
     "text": [
      "[1, 2, 3, 5, 6]\n"
     ]
    }
   ],
   "source": [
    "# Example 2\n",
    "\n",
    "stack = [1, 2, 3, 4, 5, 6]\n",
    "result = delete_middle_element(stack)\n",
    "print(result)  # Output: [1, 2, 4, 5, 6]\n"
   ]
  },
  {
   "cell_type": "markdown",
   "id": "b8a80d14",
   "metadata": {},
   "source": [
    "# <aside>\n",
    "💡 **Question 4**\n",
    "\n",
    "Given a Queue consisting of first **n** natural numbers (in random order). The task is to check whether the given Queue elements can be arranged in increasing order in another Queue using a stack. The operation allowed are:\n",
    "\n",
    "1. Push and pop elements from the stack\n",
    "2. Pop (Or Dequeue) from the given Queue.\n",
    "3. Push (Or Enqueue) in the another Queue.\n",
    "\n",
    "**Examples :**\n",
    "\n",
    "Input : Queue[] = { 5, 1, 2, 3, 4 } \n",
    "\n",
    "Output : Yes \n",
    "\n",
    "Pop the first element of the given Queue \n",
    "\n",
    "i.e 5. Push 5 into the stack. \n",
    "\n",
    "Now, pop all the elements of the given Queue and push them to second Queue. \n",
    "\n",
    "Now, pop element 5 in the stack and push it to the second Queue.   \n",
    "\n",
    "Input : Queue[] = { 5, 1, 2, 6, 3, 4 } \n",
    "\n",
    "Output : No \n",
    "\n",
    "Push 5 to stack. \n",
    "\n",
    "Pop 1, 2 from given Queue and push it to another Queue. \n",
    "\n",
    "Pop 6 from given Queue and push to stack. \n",
    "\n",
    "Pop 3, 4 from given Queue and push to second Queue. \n",
    "\n",
    "Now, from using any of above operation, we cannot push 5 into the second Queue because it is below the 6 in the stack.\n",
    "\n",
    "</aside>"
   ]
  },
  {
   "cell_type": "code",
   "execution_count": 7,
   "id": "957e9355",
   "metadata": {},
   "outputs": [],
   "source": [
    "def check_queue_order(queue):\n",
    "    stack = []\n",
    "    second_queue = []\n",
    "\n",
    "    while queue:\n",
    "        front = queue[0]\n",
    "        if stack and stack[-1] + 1 == front:\n",
    "            second_queue.append(stack.pop())\n",
    "            queue.pop(0)\n",
    "        else:\n",
    "            stack.append(queue.pop(0))\n",
    "\n",
    "    while stack:\n",
    "        second_queue.append(stack.pop())\n",
    "\n",
    "    # Check if the second queue is in increasing order\n",
    "    for i in range(1, len(second_queue)):\n",
    "        if second_queue[i] <= second_queue[i - 1]:\n",
    "            return \"No\"\n",
    "\n",
    "    return \"Yes\"\n"
   ]
  },
  {
   "cell_type": "code",
   "execution_count": 8,
   "id": "d23ad587",
   "metadata": {},
   "outputs": [
    {
     "name": "stdout",
     "output_type": "stream",
     "text": [
      "Yes\n"
     ]
    }
   ],
   "source": [
    "# Example 1\n",
    "\n",
    "queue1 = [5, 1, 2, 3, 4]\n",
    "print(check_queue_order(queue1))  # Output: Yes\n"
   ]
  },
  {
   "cell_type": "code",
   "execution_count": 9,
   "id": "7ebd2a0a",
   "metadata": {},
   "outputs": [
    {
     "name": "stdout",
     "output_type": "stream",
     "text": [
      "No\n"
     ]
    }
   ],
   "source": [
    "# Example 2\n",
    "\n",
    "queue2 = [5, 1, 2, 6, 3, 4]\n",
    "print(check_queue_order(queue2))  # Output: No\n"
   ]
  },
  {
   "cell_type": "markdown",
   "id": "9d9039c4",
   "metadata": {},
   "source": [
    "# <aside>\n",
    "💡 **Question 5**\n",
    "\n",
    "Given a number , write a program to reverse this number using stack.\n",
    "\n",
    "**Examples:**\n",
    "    \n",
    "Input : 365\n",
    "    \n",
    "Output : 563\n",
    "    \n",
    "\n",
    "Input : 6899\n",
    "    \n",
    "Output : 9986\n",
    "\n",
    "</aside>"
   ]
  },
  {
   "cell_type": "code",
   "execution_count": 10,
   "id": "0b209f60",
   "metadata": {},
   "outputs": [
    {
     "name": "stdout",
     "output_type": "stream",
     "text": [
      "Input: 365\n",
      "Output: 563\n",
      "Input: 6899\n",
      "Output: 9986\n"
     ]
    }
   ],
   "source": [
    "class Stack:\n",
    "    def __init__(self):\n",
    "        self.items = []\n",
    "\n",
    "    def is_empty(self):\n",
    "        return len(self.items) == 0\n",
    "\n",
    "    def push(self, item):\n",
    "        self.items.append(item)\n",
    "\n",
    "    def pop(self):\n",
    "        if not self.is_empty():\n",
    "            return self.items.pop()\n",
    "\n",
    "    def size(self):\n",
    "        return len(self.items)\n",
    "\n",
    "\n",
    "def reverse_number(number):\n",
    "    stack = Stack()\n",
    "    # Convert the number to a string\n",
    "    number_str = str(number)\n",
    "\n",
    "    # Push each digit of the number into the stack\n",
    "    for digit in number_str:\n",
    "        stack.push(digit)\n",
    "\n",
    "    reversed_number = ''\n",
    "    # Pop digits from the stack to build the reversed number\n",
    "    while not stack.is_empty():\n",
    "        reversed_number += stack.pop()\n",
    "\n",
    "    return int(reversed_number)\n",
    "\n",
    "\n",
    "# Example usage\n",
    "input_number = 365\n",
    "reversed_number = reverse_number(input_number)\n",
    "print(f\"Input: {input_number}\\nOutput: {reversed_number}\")\n",
    "\n",
    "input_number = 6899\n",
    "reversed_number = reverse_number(input_number)\n",
    "print(f\"Input: {input_number}\\nOutput: {reversed_number}\")\n"
   ]
  },
  {
   "cell_type": "markdown",
   "id": "320ac782",
   "metadata": {},
   "source": [
    "# <aside>\n",
    "💡 **Question 6**\n",
    "\n",
    "Given an integer k and a **[queue](https://www.geeksforgeeks.org/queue-data-structure/)** of integers, The task is to reverse the order of the first **k** elements of the queue, leaving the other elements in the same relative order.\n",
    "\n",
    "Only following standard operations are allowed on queue.\n",
    "\n",
    "- **enqueue(x) :** Add an item x to rear of queue\n",
    "- **dequeue() :** Remove an item from front of queue\n",
    "- **size() :** Returns number of elements in queue.\n",
    "- **front() :** Finds front item.\n",
    "</aside>"
   ]
  },
  {
   "cell_type": "code",
   "execution_count": 11,
   "id": "27ad69ad",
   "metadata": {},
   "outputs": [
    {
     "name": "stdout",
     "output_type": "stream",
     "text": [
      "5\n",
      "4\n",
      "3\n",
      "2\n",
      "1\n",
      "6\n",
      "7\n",
      "8\n",
      "9\n",
      "10\n"
     ]
    }
   ],
   "source": [
    "from queue import Queue\n",
    "\n",
    "def reverse_k_elements(queue, k):\n",
    "    stack = []\n",
    "    for _ in range(k):\n",
    "        stack.append(queue.get())\n",
    "    \n",
    "    while stack:\n",
    "        queue.put(stack.pop())\n",
    "    \n",
    "    for _ in range(queue.qsize() - k):\n",
    "        queue.put(queue.get())\n",
    "    \n",
    "    return queue\n",
    "\n",
    "# Example usage\n",
    "q = Queue()\n",
    "for i in range(1, 11):\n",
    "    q.put(i)\n",
    "\n",
    "k = 5\n",
    "reversed_queue = reverse_k_elements(q, k)\n",
    "\n",
    "# Print the elements of the reversed queue\n",
    "while not reversed_queue.empty():\n",
    "    print(reversed_queue.get())\n"
   ]
  },
  {
   "cell_type": "markdown",
   "id": "eb13ef0e",
   "metadata": {},
   "source": [
    "# <aside>\n",
    "💡 **Question 7**\n",
    "\n",
    "Given a sequence of n strings, the task is to check if any two similar words come together and then destroy each other then print the number of words left in the sequence after this pairwise destruction.\n",
    "\n",
    "**Examples:**\n",
    "\n",
    "Input : ab aa aa bcd ab\n",
    "\n",
    "Output : 3\n",
    "\n",
    "*As aa, aa destroys each other so,*\n",
    "\n",
    "*ab bcd ab is the new sequence.*\n",
    "\n",
    "Input :  tom jerry jerry tom\n",
    "\n",
    "Output : 0\n",
    "\n",
    "*As first both jerry will destroy each other.*\n",
    "\n",
    "*Then sequence will be tom, tom they will also destroy*\n",
    "\n",
    "*each other. So, the final sequence doesn’t contain any*\n",
    "\n",
    "*word.*\n",
    "\n",
    "</aside>"
   ]
  },
  {
   "cell_type": "code",
   "execution_count": 12,
   "id": "9d54cb60",
   "metadata": {},
   "outputs": [
    {
     "name": "stdout",
     "output_type": "stream",
     "text": [
      "Number of words left: 3\n"
     ]
    }
   ],
   "source": [
    "def count_remaining_words(sequence):\n",
    "    stack = []\n",
    "    \n",
    "    for word in sequence:\n",
    "        if not stack or stack[-1] != word:\n",
    "            stack.append(word)\n",
    "        else:\n",
    "            stack.pop()\n",
    "    \n",
    "    return len(stack)\n",
    "\n",
    "# Example usage\n",
    "sequence = [\"ab\", \"aa\", \"aa\", \"bcd\", \"ab\"]\n",
    "remaining_words = count_remaining_words(sequence)\n",
    "print(\"Number of words left:\", remaining_words)\n"
   ]
  },
  {
   "cell_type": "markdown",
   "id": "78091562",
   "metadata": {},
   "source": [
    "# <aside>\n",
    "💡 **Question 8**\n",
    "\n",
    "Given an array of integers, the task is to find the maximum absolute difference between the nearest left and the right smaller element of every element in the array.\n",
    "\n",
    "**Note:** If there is no smaller element on right side or left side of any element then we take zero as the smaller element. For example for the leftmost element, the nearest smaller element on the left side is considered as 0. Similarly, for rightmost elements, the smaller element on the right side is considered as 0.\n",
    "\n",
    "**Examples:**\n",
    "    \n",
    "    \n",
    "Input : arr[] = {2, 1, 8}\n",
    "    \n",
    "Output : 1\n",
    "    \n",
    "Left smaller  LS[] {0, 0, 1}\n",
    "    \n",
    "Right smaller RS[] {1, 0, 0}\n",
    "    \n",
    "Maximum Diff of abs(LS[i] - RS[i]) = 1\n",
    "\n",
    "Input  : arr[] = {2, 4, 8, 7, 7, 9, 3}\n",
    "    \n",
    "Output : 4\n",
    "    \n",
    "Left smaller   LS[] = {0, 2, 4, 4, 4, 7, 2}\n",
    "    \n",
    "Right smaller  RS[] = {0, 3, 7, 3, 3, 3, 0}\n",
    "    \n",
    "Maximum Diff of abs(LS[i] - RS[i]) = 7 - 3 = 4\n",
    "\n",
    "Input : arr[] = {5, 1, 9, 2, 5, 1, 7}\n",
    "    \n",
    "Output : 1\n",
    "\n",
    "</aside>"
   ]
  },
  {
   "cell_type": "code",
   "execution_count": 13,
   "id": "b9b0fd16",
   "metadata": {},
   "outputs": [
    {
     "name": "stdout",
     "output_type": "stream",
     "text": [
      "1\n"
     ]
    }
   ],
   "source": [
    "def max_absolute_difference(arr):\n",
    "    n = len(arr)\n",
    "    LS = [0] * n\n",
    "    RS = [0] * n\n",
    "    stack = []\n",
    "\n",
    "    # Find nearest left smaller element for each element\n",
    "    for i in range(n):\n",
    "        while stack and arr[stack[-1]] >= arr[i]:\n",
    "            stack.pop()\n",
    "        if stack:\n",
    "            LS[i] = arr[stack[-1]]\n",
    "        stack.append(i)\n",
    "\n",
    "    stack = []\n",
    "\n",
    "    # Find nearest right smaller element for each element\n",
    "    for i in range(n - 1, -1, -1):\n",
    "        while stack and arr[stack[-1]] >= arr[i]:\n",
    "            stack.pop()\n",
    "        if stack:\n",
    "            RS[i] = arr[stack[-1]]\n",
    "        stack.append(i)\n",
    "\n",
    "    max_diff = 0\n",
    "\n",
    "    # Calculate maximum absolute difference\n",
    "    for i in range(n):\n",
    "        diff = abs(LS[i] - RS[i])\n",
    "        max_diff = max(max_diff, diff)\n",
    "\n",
    "    return max_diff\n",
    "\n",
    "# Example usage:\n",
    "arr = [2, 1, 8]\n",
    "result = max_absolute_difference(arr)\n",
    "print(result)  # Output: 1\n"
   ]
  },
  {
   "cell_type": "code",
   "execution_count": null,
   "id": "27b3b8b4",
   "metadata": {},
   "outputs": [],
   "source": []
  }
 ],
 "metadata": {
  "kernelspec": {
   "display_name": "Python 3 (ipykernel)",
   "language": "python",
   "name": "python3"
  },
  "language_info": {
   "codemirror_mode": {
    "name": "ipython",
    "version": 3
   },
   "file_extension": ".py",
   "mimetype": "text/x-python",
   "name": "python",
   "nbconvert_exporter": "python",
   "pygments_lexer": "ipython3",
   "version": "3.10.9"
  }
 },
 "nbformat": 4,
 "nbformat_minor": 5
}
