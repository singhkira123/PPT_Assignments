{
 "cells": [
  {
   "cell_type": "markdown",
   "id": "49582b49",
   "metadata": {},
   "source": [
    "[Assignment 3](https://pwskills.notion.site/Assignment-Questions-3-ee43951706894b15b16269c1cea3fabc)"
   ]
  },
  {
   "cell_type": "markdown",
   "id": "db4d7765",
   "metadata": {},
   "source": [
    "<aside>\n",
    "💡 **Question 1**\n",
    "Given an integer array nums of length n and an integer target, find three integers\n",
    "in nums such that the sum is closest to the target.\n",
    "Return the sum of the three integers.\n",
    "\n",
    "You may assume that each input would have exactly one solution.\n",
    "\n",
    "**Example 1:**\n",
    "Input: nums = [-1,2,1,-4], target = 1\n",
    "Output: 2\n",
    "\n",
    "**Explanation:** The sum that is closest to the target is 2. (-1 + 2 + 1 = 2).\n",
    "\n",
    "</aside>\n"
   ]
  },
  {
   "cell_type": "code",
   "execution_count": 1,
   "id": "96e00823",
   "metadata": {},
   "outputs": [],
   "source": [
    "nums = [-1, 2, 1, -4]\n",
    "target = 1"
   ]
  },
  {
   "cell_type": "code",
   "execution_count": 2,
   "id": "1b95f9d3",
   "metadata": {},
   "outputs": [],
   "source": [
    "def threeSumClosest(nums, target):\n",
    "    nums.sort()\n",
    "    n = len(nums)\n",
    "    closestSum = float('inf')\n",
    "\n",
    "    for i in range(n - 2):\n",
    "        left = i + 1\n",
    "        right = n - 1\n",
    "\n",
    "        while left < right:\n",
    "            currentSum = nums[i] + nums[left] + nums[right]\n",
    "\n",
    "            if currentSum == target:\n",
    "                return target\n",
    "\n",
    "            if abs(currentSum - target) < abs(closestSum - target):\n",
    "                closestSum = currentSum\n",
    "\n",
    "            if currentSum < target:\n",
    "                left += 1\n",
    "            else:\n",
    "                right -= 1\n",
    "\n",
    "    return closestSum"
   ]
  },
  {
   "cell_type": "code",
   "execution_count": 3,
   "id": "57954a2b",
   "metadata": {},
   "outputs": [
    {
     "data": {
      "text/plain": [
       "2"
      ]
     },
     "execution_count": 3,
     "metadata": {},
     "output_type": "execute_result"
    }
   ],
   "source": [
    "threeSumClosest(nums, target)"
   ]
  },
  {
   "cell_type": "code",
   "execution_count": null,
   "id": "9b897043",
   "metadata": {},
   "outputs": [],
   "source": []
  },
  {
   "cell_type": "markdown",
   "id": "57c27f96",
   "metadata": {},
   "source": [
    "\n",
    "<aside>\n",
    "💡 **Question 2**\n",
    "Given an array nums of n integers, return an array of all the unique quadruplets\n",
    "[nums[a], nums[b], nums[c], nums[d]] such that:\n",
    "           ● 0 <= a, b, c, d < n\n",
    "           ● a, b, c, and d are distinct.\n",
    "           ● nums[a] + nums[b] + nums[c] + nums[d] == target\n",
    "\n",
    "You may return the answer in any order.\n",
    "\n",
    "**Example 1:**\n",
    "Input: nums = [1,0,-1,0,-2,2], target = 0\n",
    "Output: [[-2,-1,1,2],[-2,0,0,2],[-1,0,0,1]]\n",
    "\n",
    "</aside>\n"
   ]
  },
  {
   "cell_type": "code",
   "execution_count": 4,
   "id": "8e29b575",
   "metadata": {},
   "outputs": [],
   "source": [
    "def fourSum(nums, target):\n",
    "    nums.sort()\n",
    "    n = len(nums)\n",
    "    quadruplets = []\n",
    "\n",
    "    for i in range(n - 3):\n",
    "        if i > 0 and nums[i] == nums[i - 1]:\n",
    "            continue\n",
    "\n",
    "        for j in range(i + 1, n - 2):\n",
    "            if j > i + 1 and nums[j] == nums[j - 1]:\n",
    "                continue\n",
    "\n",
    "            left = j + 1\n",
    "            right = n - 1\n",
    "\n",
    "            while left < right:\n",
    "                currentSum = nums[i] + nums[j] + nums[left] + nums[right]\n",
    "\n",
    "                if currentSum == target:\n",
    "                    quadruplets.append([nums[i], nums[j], nums[left], nums[right]])\n",
    "                    left += 1\n",
    "                    right -= 1\n",
    "                    while left < right and nums[left] == nums[left - 1]:\n",
    "                        left += 1\n",
    "                    while left < right and nums[right] == nums[right + 1]:\n",
    "                        right -= 1\n",
    "                elif currentSum < target:\n",
    "                    left += 1\n",
    "                else:\n",
    "                    right -= 1\n",
    "\n",
    "    return quadruplets"
   ]
  },
  {
   "cell_type": "code",
   "execution_count": 5,
   "id": "d17d1b3b",
   "metadata": {},
   "outputs": [
    {
     "data": {
      "text/plain": [
       "[[-2, -1, 1, 2], [-2, 0, 0, 2], [-1, 0, 0, 1]]"
      ]
     },
     "execution_count": 5,
     "metadata": {},
     "output_type": "execute_result"
    }
   ],
   "source": [
    "nums = [1,0,-1,0,-2,2]\n",
    "target = 0\n",
    "fourSum(nums, target)"
   ]
  },
  {
   "cell_type": "code",
   "execution_count": null,
   "id": "cc84e676",
   "metadata": {},
   "outputs": [],
   "source": []
  },
  {
   "cell_type": "markdown",
   "id": "1f48f03e",
   "metadata": {},
   "source": [
    "\n",
    "<aside>\n",
    "💡 **Question 3**\n",
    "A permutation of an array of integers is an arrangement of its members into a\n",
    "sequence or linear order.\n",
    "\n",
    "For example, for arr = [1,2,3], the following are all the permutations of arr:\n",
    "[1,2,3], [1,3,2], [2, 1, 3], [2, 3, 1], [3,1,2], [3,2,1].\n",
    "\n",
    "The next permutation of an array of integers is the next lexicographically greater\n",
    "permutation of its integer. More formally, if all the permutations of the array are\n",
    "sorted in one container according to their lexicographical order, then the next\n",
    "permutation of that array is the permutation that follows it in the sorted container.\n",
    "\n",
    "If such an arrangement is not possible, the array must be rearranged as the\n",
    "lowest possible order (i.e., sorted in ascending order).\n",
    "\n",
    "● For example, the next permutation of arr = [1,2,3] is [1,3,2].\n",
    "● Similarly, the next permutation of arr = [2,3,1] is [3,1,2].\n",
    "● While the next permutation of arr = [3,2,1] is [1,2,3] because [3,2,1] does not\n",
    "have a lexicographical larger rearrangement.\n",
    "\n",
    "Given an array of integers nums, find the next permutation of nums.\n",
    "The replacement must be in place and use only constant extra memory.\n",
    "\n",
    "**Example 1:**\n",
    "Input: nums = [1,2,3]\n",
    "Output: [1,3,2]\n",
    "\n",
    "</aside>\n"
   ]
  },
  {
   "cell_type": "code",
   "execution_count": 6,
   "id": "cf8d2b6c",
   "metadata": {},
   "outputs": [],
   "source": [
    "nums = [1,2,3]"
   ]
  },
  {
   "cell_type": "code",
   "execution_count": 7,
   "id": "466caef1",
   "metadata": {},
   "outputs": [],
   "source": [
    "def nextPermutation(nums):\n",
    "    n = len(nums)\n",
    "    i = n - 2\n",
    "\n",
    "    # Find the first pair (i, i+1) from the right where nums[i] < nums[i+1]\n",
    "    while i >= 0 and nums[i] >= nums[i + 1]:\n",
    "        i -= 1\n",
    "\n",
    "    if i >= 0:\n",
    "        # Find the next greater element to replace nums[i]\n",
    "        j = n - 1\n",
    "        while j >= 0 and nums[j] <= nums[i]:\n",
    "            j -= 1\n",
    "        nums[i], nums[j] = nums[j], nums[i]\n",
    "\n",
    "    # Reverse the subarray to the right of index i\n",
    "    left = i + 1\n",
    "    right = n - 1\n",
    "    while left < right:\n",
    "        nums[left], nums[right] = nums[right], nums[left]\n",
    "        left += 1\n",
    "        right -= 1\n",
    "\n",
    "    return nums"
   ]
  },
  {
   "cell_type": "code",
   "execution_count": 8,
   "id": "0ad3af12",
   "metadata": {},
   "outputs": [
    {
     "data": {
      "text/plain": [
       "[1, 3, 2]"
      ]
     },
     "execution_count": 8,
     "metadata": {},
     "output_type": "execute_result"
    }
   ],
   "source": [
    "nextPermutation(nums)"
   ]
  },
  {
   "cell_type": "markdown",
   "id": "ddedd878",
   "metadata": {},
   "source": [
    "\n",
    "<aside>\n",
    "💡 **Question 4**\n",
    "Given a sorted array of distinct integers and a target value, return the index if the\n",
    "target is found. If not, return the index where it would be if it were inserted in\n",
    "order.\n",
    "\n",
    "You must write an algorithm with O(log n) runtime complexity.\n",
    "\n",
    "**Example 1:**\n",
    "Input: nums = [1,3,5,6], target = 5\n",
    "Output: 2\n",
    "\n",
    "</aside>\n"
   ]
  },
  {
   "cell_type": "code",
   "execution_count": 10,
   "id": "666cf655",
   "metadata": {},
   "outputs": [],
   "source": [
    "nums = [1, 3, 5, 6]\n",
    "target = 5 "
   ]
  },
  {
   "cell_type": "code",
   "execution_count": 11,
   "id": "92e87713",
   "metadata": {},
   "outputs": [],
   "source": [
    "def searchInsert(nums, target):\n",
    "    left, right = 0, len(nums) - 1\n",
    "\n",
    "    while left <= right:\n",
    "        mid = (left + right) // 2\n",
    "\n",
    "        if nums[mid] == target:\n",
    "            return mid\n",
    "        elif nums[mid] < target:\n",
    "            left = mid + 1\n",
    "        else:\n",
    "            right = mid - 1\n",
    "\n",
    "    return left"
   ]
  },
  {
   "cell_type": "code",
   "execution_count": 12,
   "id": "87b1b290",
   "metadata": {},
   "outputs": [
    {
     "data": {
      "text/plain": [
       "2"
      ]
     },
     "execution_count": 12,
     "metadata": {},
     "output_type": "execute_result"
    }
   ],
   "source": [
    "searchInsert(nums, target)"
   ]
  },
  {
   "cell_type": "markdown",
   "id": "1fbceff4",
   "metadata": {},
   "source": [
    "\n",
    "<aside>\n",
    "💡 **Question 5**\n",
    "You are given a large integer represented as an integer array digits, where each\n",
    "digits[i] is the ith digit of the integer. The digits are ordered from most significant\n",
    "to least significant in left-to-right order. The large integer does not contain any\n",
    "leading 0's.\n",
    "\n",
    "Increment the large integer by one and return the resulting array of digits.\n",
    "\n",
    "**Example 1:**\n",
    "Input: digits = [1,2,3]\n",
    "Output: [1,2,4]\n",
    "\n",
    "**Explanation:** The array represents the integer 123.\n",
    "Incrementing by one gives 123 + 1 = 124.\n",
    "Thus, the result should be [1,2,4].\n",
    "\n",
    "</aside>\n"
   ]
  },
  {
   "cell_type": "code",
   "execution_count": 13,
   "id": "b268c527",
   "metadata": {},
   "outputs": [],
   "source": [
    "digits = [1, 2, 3]"
   ]
  },
  {
   "cell_type": "code",
   "execution_count": 14,
   "id": "b9964d5d",
   "metadata": {},
   "outputs": [],
   "source": [
    "def plusOne(digits):\n",
    "    carry = 1\n",
    "    n = len(digits)\n",
    "\n",
    "    for i in range(n - 1, -1, -1):\n",
    "        digits[i] += carry\n",
    "        carry = digits[i] // 10\n",
    "        digits[i] %= 10\n",
    "\n",
    "    if carry == 1:\n",
    "        digits.insert(0, 1)\n",
    "\n",
    "    return digits"
   ]
  },
  {
   "cell_type": "code",
   "execution_count": 15,
   "id": "3f245215",
   "metadata": {},
   "outputs": [
    {
     "data": {
      "text/plain": [
       "[1, 2, 4]"
      ]
     },
     "execution_count": 15,
     "metadata": {},
     "output_type": "execute_result"
    }
   ],
   "source": [
    "plusOne(digits)"
   ]
  },
  {
   "cell_type": "code",
   "execution_count": null,
   "id": "68d58aee",
   "metadata": {},
   "outputs": [],
   "source": []
  },
  {
   "cell_type": "markdown",
   "id": "b4b618b6",
   "metadata": {},
   "source": [
    "\n",
    "<aside>\n",
    "💡 **Question 6**\n",
    "Given a non-empty array of integers nums, every element appears twice except\n",
    "for one. Find that single one.\n",
    "\n",
    "You must implement a solution with a linear runtime complexity and use only\n",
    "constant extra space.\n",
    "\n",
    "**Example 1:**\n",
    "Input: nums = [2,2,1]\n",
    "Output: 1\n",
    "\n",
    "</aside>\n"
   ]
  },
  {
   "cell_type": "code",
   "execution_count": 16,
   "id": "f20ae6b5",
   "metadata": {},
   "outputs": [],
   "source": [
    "nums = [2, 2, 1]"
   ]
  },
  {
   "cell_type": "code",
   "execution_count": 17,
   "id": "76df1fe5",
   "metadata": {},
   "outputs": [],
   "source": [
    "def singleNumber(nums):\n",
    "    result = 0\n",
    "    for num in nums:\n",
    "        result ^= num\n",
    "    return result"
   ]
  },
  {
   "cell_type": "code",
   "execution_count": 18,
   "id": "3614363e",
   "metadata": {},
   "outputs": [
    {
     "data": {
      "text/plain": [
       "1"
      ]
     },
     "execution_count": 18,
     "metadata": {},
     "output_type": "execute_result"
    }
   ],
   "source": [
    "singleNumber(nums)"
   ]
  },
  {
   "cell_type": "code",
   "execution_count": null,
   "id": "ffb139fc",
   "metadata": {},
   "outputs": [],
   "source": []
  },
  {
   "cell_type": "code",
   "execution_count": null,
   "id": "8d75592c",
   "metadata": {},
   "outputs": [],
   "source": []
  },
  {
   "cell_type": "markdown",
   "id": "e479ae9c",
   "metadata": {},
   "source": [
    "\n",
    "<aside>\n",
    "💡 **Question 7**\n",
    "You are given an inclusive range [lower, upper] and a sorted unique integer array\n",
    "nums, where all elements are within the inclusive range.\n",
    "\n",
    "A number x is considered missing if x is in the range [lower, upper] and x is not in\n",
    "nums.\n",
    "\n",
    "Return the shortest sorted list of ranges that exactly covers all the missing\n",
    "numbers. That is, no element of nums is included in any of the ranges, and each\n",
    "missing number is covered by one of the ranges.\n",
    "\n",
    "**Example 1:**\n",
    "Input: nums = [0,1,3,50,75], lower = 0, upper = 99\n",
    "Output: [[2,2],[4,49],[51,74],[76,99]]\n",
    "\n",
    "**Explanation:** The ranges are:\n",
    "[2,2]\n",
    "[4,49]\n",
    "[51,74]\n",
    "[76,99]\n",
    "\n",
    "</aside>\n"
   ]
  },
  {
   "cell_type": "code",
   "execution_count": null,
   "id": "2e99ffd8",
   "metadata": {},
   "outputs": [],
   "source": []
  },
  {
   "cell_type": "code",
   "execution_count": 19,
   "id": "7f65e53d",
   "metadata": {},
   "outputs": [],
   "source": [
    "def findMissingRanges(nums, lower, upper):\n",
    "    result = []\n",
    "    start = lower\n",
    "\n",
    "    for num in nums:\n",
    "        if num > start:\n",
    "            result.append(getRange(start, num - 1))\n",
    "        start = num + 1\n",
    "\n",
    "    if start <= upper:\n",
    "        result.append(getRange(start, upper))\n",
    "\n",
    "    return result\n",
    "\n",
    "\n",
    "def getRange(start, end):\n",
    "    if start == end:\n",
    "        return str(start)\n",
    "    else:\n",
    "        return str(start) + \"->\" + str(end)"
   ]
  },
  {
   "cell_type": "code",
   "execution_count": 20,
   "id": "12f924e0",
   "metadata": {},
   "outputs": [
    {
     "name": "stdout",
     "output_type": "stream",
     "text": [
      "['2', '4->49', '51->74', '76->99']\n"
     ]
    }
   ],
   "source": [
    "nums = [0, 1, 3, 50, 75]\n",
    "lower = 0\n",
    "upper = 99\n",
    "result = findMissingRanges(nums, lower, upper)\n",
    "print(result)"
   ]
  },
  {
   "cell_type": "code",
   "execution_count": null,
   "id": "b205b6e0",
   "metadata": {},
   "outputs": [],
   "source": []
  },
  {
   "cell_type": "markdown",
   "id": "cac74990",
   "metadata": {},
   "source": [
    "\n",
    "<aside>\n",
    "💡 **Question 8**\n",
    "Given an array of meeting time intervals where intervals[i] = [starti, endi],\n",
    "determine if a person could attend all meetings.\n",
    "\n",
    "**Example 1:**\n",
    "Input: intervals = [[0,30],[5,10],[15,20]]\n",
    "Output: false\n",
    "\n",
    "</aside>"
   ]
  },
  {
   "cell_type": "code",
   "execution_count": null,
   "id": "f252fa27",
   "metadata": {},
   "outputs": [],
   "source": []
  },
  {
   "cell_type": "code",
   "execution_count": 21,
   "id": "01bc3249",
   "metadata": {},
   "outputs": [],
   "source": [
    "def canAttendMeetings(intervals):\n",
    "    intervals.sort(key=lambda x: x[0])  # Sort intervals based on start time\n",
    "\n",
    "    for i in range(1, len(intervals)):\n",
    "        if intervals[i][0] < intervals[i-1][1]:\n",
    "            return False\n",
    "\n",
    "    return True"
   ]
  },
  {
   "cell_type": "code",
   "execution_count": 22,
   "id": "66655325",
   "metadata": {},
   "outputs": [
    {
     "name": "stdout",
     "output_type": "stream",
     "text": [
      "False\n"
     ]
    }
   ],
   "source": [
    "intervals = [[0, 30], [5, 10], [15, 20]]\n",
    "result = canAttendMeetings(intervals)\n",
    "print(result)"
   ]
  },
  {
   "cell_type": "code",
   "execution_count": null,
   "id": "7f9c9e40",
   "metadata": {},
   "outputs": [],
   "source": []
  }
 ],
 "metadata": {
  "kernelspec": {
   "display_name": "Python 3 (ipykernel)",
   "language": "python",
   "name": "python3"
  },
  "language_info": {
   "codemirror_mode": {
    "name": "ipython",
    "version": 3
   },
   "file_extension": ".py",
   "mimetype": "text/x-python",
   "name": "python",
   "nbconvert_exporter": "python",
   "pygments_lexer": "ipython3",
   "version": "3.9.12"
  }
 },
 "nbformat": 4,
 "nbformat_minor": 5
}
