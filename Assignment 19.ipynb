{
 "cells": [
  {
   "cell_type": "markdown",
   "id": "a51e57d0",
   "metadata": {},
   "source": [
    "# Assignment 19 Solution"
   ]
  },
  {
   "cell_type": "markdown",
   "id": "3c578214",
   "metadata": {},
   "source": [
    "# <aside>\n",
    "💡 1. **Merge k Sorted Lists**\n",
    "\n",
    "You are given an array of `k` linked-lists `lists`, each linked-list is sorted in ascending order.\n",
    "\n",
    "*Merge all the linked-lists into one sorted linked-list and return it.*\n",
    "\n",
    "**Example 1:**\n",
    "    \n",
    "Input: lists = [[1,4,5],[1,3,4],[2,6]]\n",
    "    \n",
    "Output: [1,1,2,3,4,4,5,6]\n",
    "    \n",
    "Explanation: The linked-lists are:\n",
    "        \n",
    "[\n",
    "  1->4->5,\n",
    "    \n",
    "  1->3->4,\n",
    "    \n",
    "  2->6\n",
    "]\n",
    "\n",
    "merging them into one sorted list:\n",
    "    \n",
    "1->1->2->3->4->4->5->6\n",
    "\n",
    "</aside>"
   ]
  },
  {
   "cell_type": "code",
   "execution_count": 4,
   "id": "d08c25d8",
   "metadata": {},
   "outputs": [],
   "source": [
    "import heapq\n",
    "\n",
    "class ListNode:\n",
    "    def __init__(self, val=0, next=None):\n",
    "        self.val = val\n",
    "        self.next = next\n",
    "\n",
    "def mergeKLists(lists):\n",
    "    min_heap = []\n",
    "    \n",
    "    # Insert the heads of all linked lists into the min-heap\n",
    "    for i in range(len(lists)):\n",
    "        if lists[i]:\n",
    "            heapq.heappush(min_heap, (lists[i].val, i))\n",
    "            lists[i] = lists[i].next\n",
    "    \n",
    "    # Create a dummy node as the starting point of the merged list\n",
    "    dummy = ListNode()\n",
    "    curr = dummy\n",
    "    \n",
    "    # Merge the linked lists using the min-heap\n",
    "    while min_heap:\n",
    "        val, index = heapq.heappop(min_heap)\n",
    "        curr.next = ListNode(val)\n",
    "        curr = curr.next\n",
    "        \n",
    "        if lists[index]:\n",
    "            heapq.heappush(min_heap, (lists[index].val, index))\n",
    "            lists[index] = lists[index].next\n",
    "    \n",
    "    return dummy.next\n"
   ]
  },
  {
   "cell_type": "code",
   "execution_count": 5,
   "id": "65fcf616",
   "metadata": {},
   "outputs": [
    {
     "name": "stdout",
     "output_type": "stream",
     "text": [
      "1 1 2 3 4 4 5 6 "
     ]
    }
   ],
   "source": [
    "list1 = ListNode(1)\n",
    "list1.next = ListNode(4)\n",
    "list1.next.next = ListNode(5)\n",
    "\n",
    "list2 = ListNode(1)\n",
    "list2.next = ListNode(3)\n",
    "list2.next.next = ListNode(4)\n",
    "\n",
    "list3 = ListNode(2)\n",
    "list3.next = ListNode(6)\n",
    "\n",
    "lists = [list1, list2, list3]\n",
    "\n",
    "result = mergeKLists(lists)\n",
    "\n",
    "# Print the merged list\n",
    "while result:\n",
    "    print(result.val, end=' ')\n",
    "    result = result.next\n",
    "\n",
    "# Output: 1 1 2 3 4 4 5 6\n"
   ]
  },
  {
   "cell_type": "markdown",
   "id": "8805eb5d",
   "metadata": {},
   "source": [
    "#### Example 2:\n",
    "\n",
    "Input: lists = []\n",
    "    \n",
    "Output: []\n"
   ]
  },
  {
   "cell_type": "code",
   "execution_count": 6,
   "id": "400d0b15",
   "metadata": {},
   "outputs": [],
   "source": [
    "import heapq\n",
    "\n",
    "class ListNode:\n",
    "    def __init__(self, val=0, next=None):\n",
    "        self.val = val\n",
    "        self.next = next\n",
    "\n",
    "def mergeKLists(lists):\n",
    "    min_heap = []\n",
    "    \n",
    "    # Insert the heads of non-empty linked lists into the min-heap\n",
    "    for i in range(len(lists)):\n",
    "        if lists[i]:\n",
    "            heapq.heappush(min_heap, (lists[i].val, i))\n",
    "            lists[i] = lists[i].next\n",
    "    \n",
    "    # Create a dummy node as the starting point of the merged list\n",
    "    dummy = ListNode()\n",
    "    curr = dummy\n",
    "    \n",
    "    # Merge the linked lists using the min-heap\n",
    "    while min_heap:\n",
    "        val, index = heapq.heappop(min_heap)\n",
    "        curr.next = ListNode(val)\n",
    "        curr = curr.next\n",
    "        \n",
    "        if lists[index]:\n",
    "            heapq.heappush(min_heap, (lists[index].val, index))\n",
    "            lists[index] = lists[index].next\n",
    "    \n",
    "    return dummy.next\n"
   ]
  },
  {
   "cell_type": "code",
   "execution_count": 7,
   "id": "a60ad252",
   "metadata": {},
   "outputs": [
    {
     "name": "stdout",
     "output_type": "stream",
     "text": [
      "None\n"
     ]
    }
   ],
   "source": [
    "lists = []\n",
    "result = mergeKLists(lists)\n",
    "print(result)\n"
   ]
  },
  {
   "cell_type": "markdown",
   "id": "0ae0c8de",
   "metadata": {},
   "source": [
    "#### Example 3:\n",
    "    \n",
    "Input: lists = [[]]\n",
    "    \n",
    "Output: []\n"
   ]
  },
  {
   "cell_type": "code",
   "execution_count": 8,
   "id": "6023b2db",
   "metadata": {},
   "outputs": [],
   "source": [
    "import heapq\n",
    "\n",
    "class ListNode:\n",
    "    def __init__(self, val=0, next=None):\n",
    "        self.val = val\n",
    "        self.next = next\n",
    "\n",
    "def mergeKLists(lists):\n",
    "    min_heap = []\n",
    "    \n",
    "    # Insert the heads of non-empty linked lists into the min-heap\n",
    "    for i in range(len(lists)):\n",
    "        if lists[i]:\n",
    "            heapq.heappush(min_heap, (lists[i].val, i))\n",
    "            lists[i] = lists[i].next\n",
    "    \n",
    "    # Create a dummy node as the starting point of the merged list\n",
    "    dummy = ListNode()\n",
    "    curr = dummy\n",
    "    \n",
    "    # Merge the linked lists using the min-heap\n",
    "    while min_heap:\n",
    "        val, index = heapq.heappop(min_heap)\n",
    "        curr.next = ListNode(val)\n",
    "        curr = curr.next\n",
    "        \n",
    "        if lists[index]:\n",
    "            heapq.heappush(min_heap, (lists[index].val, index))\n",
    "            lists[index] = lists[index].next\n",
    "    \n",
    "    return dummy.next\n"
   ]
  },
  {
   "cell_type": "code",
   "execution_count": 9,
   "id": "b4d7812c",
   "metadata": {},
   "outputs": [
    {
     "name": "stdout",
     "output_type": "stream",
     "text": [
      "None\n"
     ]
    }
   ],
   "source": [
    "lists = [[]]\n",
    "result = mergeKLists(lists)\n",
    "print(result)\n"
   ]
  },
  {
   "cell_type": "markdown",
   "id": "fb88b529",
   "metadata": {},
   "source": [
    "# <aside>\n",
    "💡 2. **Count of Smaller Numbers After Self**\n",
    "\n",
    "Given an integer array `nums`, return *an integer array* `counts` *where* `counts[i]` *is the number of smaller elements to the right of* `nums[i]`.\n",
    "\n",
    "**Example 1:**\n",
    "    \n",
    "Input: nums = [5,2,6,1]\n",
    "    \n",
    "Output: [2,1,1,0]\n",
    "    \n",
    "Explanation:\n",
    "    \n",
    "To the right of 5 there are2 smaller elements (2 and 1).\n",
    "    \n",
    "To the right of 2 there is only1 smaller element (1).\n",
    "    \n",
    "To the right of 6 there is1 smaller element (1).\n",
    "    \n",
    "To the right of 1 there is0 smaller element.\n",
    "\n",
    "</aside>"
   ]
  },
  {
   "cell_type": "code",
   "execution_count": 11,
   "id": "7188c42d",
   "metadata": {},
   "outputs": [],
   "source": [
    "def countSmaller(nums):\n",
    "    result = [0] * len(nums)\n",
    "    indexedNums = [(num, i) for i, num in enumerate(nums)]\n",
    "\n",
    "    def mergeSortWithCount(nums, result):\n",
    "        if len(nums) <= 1:\n",
    "            return nums\n",
    "\n",
    "        mid = len(nums) // 2\n",
    "        left = mergeSortWithCount(nums[:mid], result)\n",
    "        right = mergeSortWithCount(nums[mid:], result)\n",
    "\n",
    "        merged = []\n",
    "        i, j = 0, 0\n",
    "        while i < len(left) or j < len(right):\n",
    "            if j == len(right) or (i < len(left) and left[i][0] <= right[j][0]):\n",
    "                merged.append(left[i])\n",
    "                result[left[i][1]] += j\n",
    "                i += 1\n",
    "            else:\n",
    "                merged.append(right[j])\n",
    "                j += 1\n",
    "\n",
    "        return merged\n",
    "\n",
    "    mergeSortWithCount(indexedNums, result)\n",
    "    return result\n"
   ]
  },
  {
   "cell_type": "code",
   "execution_count": 12,
   "id": "c0faa583",
   "metadata": {},
   "outputs": [
    {
     "name": "stdout",
     "output_type": "stream",
     "text": [
      "[2, 1, 1, 0]\n"
     ]
    }
   ],
   "source": [
    "nums = [5, 2, 6, 1]\n",
    "counts = countSmaller(nums)\n",
    "print(counts)  # Output: [2, 1, 1, 0]\n"
   ]
  },
  {
   "cell_type": "markdown",
   "id": "df9a2acf",
   "metadata": {},
   "source": [
    "#### Example 2:\n",
    "    \n",
    "Input: nums = [-1]\n",
    "    \n",
    "Output: [0]\n"
   ]
  },
  {
   "cell_type": "code",
   "execution_count": 15,
   "id": "5c155991",
   "metadata": {},
   "outputs": [],
   "source": [
    "def countSmaller(nums):\n",
    "    if len(nums) <= 1:\n",
    "        return [0]\n",
    "\n",
    "    result = [0] * len(nums)\n",
    "    indexedNums = [(num, i) for i, num in enumerate(nums)]\n",
    "\n",
    "    def mergeSortWithCount(nums, result):\n",
    "        if len(nums) <= 1:\n",
    "            return nums\n",
    "\n",
    "        mid = len(nums) // 2\n",
    "        left = mergeSortWithCount(nums[:mid], result)\n",
    "        right = mergeSortWithCount(nums[mid:], result)\n",
    "\n",
    "        merged = []\n",
    "        i, j = 0, 0\n",
    "        while i < len(left) or j < len(right):\n",
    "            if j == len(right) or (i < len(left) and left[i][0] <= right[j][0]):\n",
    "                merged.append(left[i])\n",
    "                result[left[i][1]] += j\n",
    "                i += 1\n",
    "            else:\n",
    "                merged.append(right[j])\n",
    "                j += 1\n",
    "\n",
    "        return merged\n",
    "\n",
    "    mergeSortWithCount(indexedNums, result)\n",
    "    return result\n"
   ]
  },
  {
   "cell_type": "code",
   "execution_count": 16,
   "id": "d2fdd351",
   "metadata": {},
   "outputs": [
    {
     "name": "stdout",
     "output_type": "stream",
     "text": [
      "[0]\n"
     ]
    }
   ],
   "source": [
    "nums = [-1]\n",
    "counts = countSmaller(nums)\n",
    "print(counts)  # Output: [0]\n"
   ]
  },
  {
   "cell_type": "markdown",
   "id": "df871718",
   "metadata": {},
   "source": [
    "#### Example 2:\n",
    "    \n",
    "Input: nums = [-1,-1]\n",
    "    \n",
    "Output: [0,0]\n"
   ]
  },
  {
   "cell_type": "code",
   "execution_count": 17,
   "id": "be74c895",
   "metadata": {},
   "outputs": [],
   "source": [
    "def countSmaller(nums):\n",
    "    if len(nums) <= 1:\n",
    "        return [0]\n",
    "\n",
    "    result = [0] * len(nums)\n",
    "    indexedNums = [(num, i) for i, num in enumerate(nums)]\n",
    "\n",
    "    def mergeSortWithCount(nums, result):\n",
    "        if len(nums) <= 1:\n",
    "            return nums\n",
    "\n",
    "        mid = len(nums) // 2\n",
    "        left = mergeSortWithCount(nums[:mid], result)\n",
    "        right = mergeSortWithCount(nums[mid:], result)\n",
    "\n",
    "        merged = []\n",
    "        i, j = 0, 0\n",
    "        while i < len(left) or j < len(right):\n",
    "            if j == len(right) or (i < len(left) and left[i][0] <= right[j][0]):\n",
    "                merged.append(left[i])\n",
    "                result[left[i][1]] += j\n",
    "                i += 1\n",
    "            else:\n",
    "                merged.append(right[j])\n",
    "                j += 1\n",
    "\n",
    "        return merged\n",
    "\n",
    "    mergeSortWithCount(indexedNums, result)\n",
    "    return result\n"
   ]
  },
  {
   "cell_type": "code",
   "execution_count": 18,
   "id": "01b3c0da",
   "metadata": {},
   "outputs": [
    {
     "name": "stdout",
     "output_type": "stream",
     "text": [
      "[0, 0]\n"
     ]
    }
   ],
   "source": [
    "nums = [-1, -1]\n",
    "counts = countSmaller(nums)\n",
    "print(counts)  # Output: [0, 0]\n"
   ]
  },
  {
   "cell_type": "markdown",
   "id": "703d9516",
   "metadata": {},
   "source": [
    "# <aside>\n",
    "💡 3. **Sort an Array**\n",
    "\n",
    "Given an array of integers `nums`, sort the array in ascending order and return it.\n",
    "\n",
    "You must solve the problem **without using any built-in** functions in `O(nlog(n))` time complexity and with the smallest space complexity possible.\n",
    "\n",
    "**Example 1:**\n",
    "    \n",
    "Input: nums = [5,2,3,1]\n",
    "    \n",
    "Output: [1,2,3,5]\n",
    "    \n",
    "Explanation: After sorting the array, the positions of some numbers are not changed (for example, 2 and 3), while the positions of other numbers are changed (for example, 1 and 5).\n",
    "\n",
    "</aside>"
   ]
  },
  {
   "cell_type": "code",
   "execution_count": 19,
   "id": "5f12b40d",
   "metadata": {},
   "outputs": [],
   "source": [
    "def merge_sort(nums):\n",
    "    if len(nums) <= 1:\n",
    "        return nums\n",
    "    \n",
    "    mid = len(nums) // 2\n",
    "    left = nums[:mid]\n",
    "    right = nums[mid:]\n",
    "    \n",
    "    left = merge_sort(left)\n",
    "    right = merge_sort(right)\n",
    "    \n",
    "    return merge(left, right)\n",
    "\n",
    "def merge(left, right):\n",
    "    result = []\n",
    "    i = j = 0\n",
    "    \n",
    "    while i < len(left) and j < len(right):\n",
    "        if left[i] < right[j]:\n",
    "            result.append(left[i])\n",
    "            i += 1\n",
    "        else:\n",
    "            result.append(right[j])\n",
    "            j += 1\n",
    "    \n",
    "    while i < len(left):\n",
    "        result.append(left[i])\n",
    "        i += 1\n",
    "    \n",
    "    while j < len(right):\n",
    "        result.append(right[j])\n",
    "        j += 1\n",
    "    \n",
    "    return result\n"
   ]
  },
  {
   "cell_type": "code",
   "execution_count": 20,
   "id": "3112b19f",
   "metadata": {},
   "outputs": [
    {
     "name": "stdout",
     "output_type": "stream",
     "text": [
      "[1, 2, 3, 5]\n"
     ]
    }
   ],
   "source": [
    "nums = [5, 2, 3, 1]\n",
    "sorted_nums = merge_sort(nums)\n",
    "print(sorted_nums)  # Output: [1, 2, 3, 5]\n"
   ]
  },
  {
   "cell_type": "markdown",
   "id": "85b1d51c",
   "metadata": {},
   "source": [
    "#### Example 2:\n",
    "    \n",
    "Input: nums = [5,1,1,2,0,0]\n",
    "\n",
    "Output: [0,0,1,1,2,5]\n",
    "\n",
    "Explanation: Note that the values of nums are not necessairly unique.\n"
   ]
  },
  {
   "cell_type": "code",
   "execution_count": 21,
   "id": "248e3bc2",
   "metadata": {},
   "outputs": [],
   "source": [
    "def merge_sort(nums):\n",
    "    if len(nums) <= 1:\n",
    "        return nums\n",
    "    \n",
    "    mid = len(nums) // 2\n",
    "    left = nums[:mid]\n",
    "    right = nums[mid:]\n",
    "    \n",
    "    left = merge_sort(left)\n",
    "    right = merge_sort(right)\n",
    "    \n",
    "    return merge(left, right)\n",
    "\n",
    "def merge(left, right):\n",
    "    result = []\n",
    "    i = j = 0\n",
    "    \n",
    "    while i < len(left) and j < len(right):\n",
    "        if left[i] <= right[j]:\n",
    "            result.append(left[i])\n",
    "            i += 1\n",
    "        else:\n",
    "            result.append(right[j])\n",
    "            j += 1\n",
    "    \n",
    "    while i < len(left):\n",
    "        result.append(left[i])\n",
    "        i += 1\n",
    "    \n",
    "    while j < len(right):\n",
    "        result.append(right[j])\n",
    "        j += 1\n",
    "    \n",
    "    return result\n"
   ]
  },
  {
   "cell_type": "code",
   "execution_count": 22,
   "id": "6c8071f7",
   "metadata": {},
   "outputs": [
    {
     "name": "stdout",
     "output_type": "stream",
     "text": [
      "[0, 0, 1, 1, 2, 5]\n"
     ]
    }
   ],
   "source": [
    "nums = [5, 1, 1, 2, 0, 0]\n",
    "sorted_nums = merge_sort(nums)\n",
    "print(sorted_nums)  # Output: [0, 0, 1, 1, 2, 5]\n"
   ]
  },
  {
   "cell_type": "markdown",
   "id": "21dd9606",
   "metadata": {},
   "source": [
    "# <aside>\n",
    "💡 4. **Move all zeroes to end of array**\n",
    "\n",
    "Given an array of random numbers, Push all the zero’s of a given array to the end of the array. For example, if the given arrays is {1, 9, 8, 4, 0, 0, 2, 7, 0, 6, 0}, it should be changed to {1, 9, 8, 4, 2, 7, 6, 0, 0, 0, 0}. The order of all other elements should be same. Expected time complexity is O(n) and extra space is O(1).\n",
    "\n",
    "**Example:**\n",
    "    \n",
    "Input :  arr[] = {1, 2, 0, 4, 3, 0, 5, 0};\n",
    "    \n",
    "Output : arr[] = {1, 2, 4, 3, 5, 0, 0, 0};\n",
    "\n",
    "Input : arr[]  = {1, 2, 0, 0, 0, 3, 6};\n",
    "    \n",
    "Output : arr[] = {1, 2, 3, 6, 0, 0, 0};\n",
    "</aside>"
   ]
  },
  {
   "cell_type": "code",
   "execution_count": 23,
   "id": "62cd820a",
   "metadata": {},
   "outputs": [],
   "source": [
    "def move_zeroes_to_end(arr):\n",
    "    n = len(arr)\n",
    "    left = 0\n",
    "    right = 0\n",
    "\n",
    "    # Move non-zero elements to the left\n",
    "    while right < n:\n",
    "        if arr[right] != 0:\n",
    "            arr[left], arr[right] = arr[right], arr[left]\n",
    "            left += 1\n",
    "        right += 1\n",
    "\n",
    "    # Set remaining elements to zero\n",
    "    while left < n:\n",
    "        arr[left] = 0\n",
    "        left += 1\n",
    "\n",
    "    return arr\n"
   ]
  },
  {
   "cell_type": "code",
   "execution_count": 24,
   "id": "302fe814",
   "metadata": {},
   "outputs": [
    {
     "name": "stdout",
     "output_type": "stream",
     "text": [
      "[1, 2, 4, 3, 5, 0, 0, 0]\n",
      "[1, 2, 3, 6, 0, 0, 0]\n"
     ]
    }
   ],
   "source": [
    "arr1 = [1, 2, 0, 4, 3, 0, 5, 0]\n",
    "print(move_zeroes_to_end(arr1))\n",
    "# Output: [1, 2, 4, 3, 5, 0, 0, 0]\n",
    "\n",
    "arr2 = [1, 2, 0, 0, 0, 3, 6]\n",
    "print(move_zeroes_to_end(arr2))\n",
    "# Output: [1, 2, 3, 6, 0, 0, 0]\n"
   ]
  },
  {
   "cell_type": "markdown",
   "id": "6c45885d",
   "metadata": {},
   "source": [
    "# <aside>\n",
    "💡 5. **Rearrange array in alternating positive & negative items with O(1) extra space**\n",
    "\n",
    "Given an **array of positive** and **negative numbers**, arrange them in an **alternate** fashion such that every positive number is followed by a negative and vice-versa maintaining the **order of appearance**. The number of positive and negative numbers need not be equal. If there are more positive numbers they appear at the end of the array. If there are more negative numbers, they too appear at the end of the array.\n",
    "\n",
    "**Examples:**\n",
    "\n",
    "> Input:  arr[] = {1, 2, 3, -4, -1, 4}\n",
    "    \n",
    "Output: arr[] = {-4, 1, -1, 2, 3, 4}\n",
    "\n",
    "Input:  arr[] = {-5, -2, 5, 2, 4, 7, 1, 8, 0, -8}\n",
    "    \n",
    "Output: arr[] = {-5, 5, -2, 2, -8, 4, 7, 1, 8, 0}\n",
    "> \n",
    "</aside>"
   ]
  },
  {
   "cell_type": "code",
   "execution_count": 25,
   "id": "06354792",
   "metadata": {},
   "outputs": [],
   "source": [
    "def rearrange_alternate(arr):\n",
    "    length = len(arr)\n",
    "    posPtr = 0\n",
    "    negPtr = 1\n",
    "\n",
    "    # Find the first positive number\n",
    "    while posPtr < length and arr[posPtr] >= 0:\n",
    "        posPtr += 2\n",
    "\n",
    "    # Find the first negative number\n",
    "    while negPtr < length and arr[negPtr] <= 0:\n",
    "        negPtr += 2\n",
    "\n",
    "    # Rearrange positive and negative numbers alternately\n",
    "    while posPtr < length and negPtr < length:\n",
    "        arr[posPtr], arr[negPtr] = arr[negPtr], arr[posPtr]\n",
    "        posPtr += 2\n",
    "        negPtr += 2\n",
    "\n",
    "    # Move remaining positive numbers to the end\n",
    "    if posPtr < length:\n",
    "        for i in range(posPtr, length):\n",
    "            if arr[i] >= 0:\n",
    "                arr[i], arr[posPtr] = arr[posPtr], arr[i]\n",
    "                posPtr += 1\n",
    "\n",
    "    return arr\n"
   ]
  },
  {
   "cell_type": "code",
   "execution_count": 26,
   "id": "b12cf804",
   "metadata": {},
   "outputs": [
    {
     "name": "stdout",
     "output_type": "stream",
     "text": [
      "[1, -1, 3, -4, 2, 4]\n",
      "[2, -2, 7, -5, 8, 5, -8, 4, 0, 1]\n"
     ]
    }
   ],
   "source": [
    "arr1 = [1, 2, 3, -4, -1, 4]\n",
    "arr2 = [-5, -2, 5, 2, 4, 7, 1, 8, 0, -8]\n",
    "\n",
    "print(rearrange_alternate(arr1))\n",
    "# Output: [-4, 1, -1, 2, 3, 4]\n",
    "\n",
    "print(rearrange_alternate(arr2))\n",
    "# Output: [-5, 5, -2, 2, -8, 4, 7, 1, 8, 0]\n"
   ]
  },
  {
   "cell_type": "markdown",
   "id": "d5db6607",
   "metadata": {},
   "source": [
    "# <aside>\n",
    "💡 **6. Merge two sorted arrays**\n",
    "\n",
    "Given two sorted arrays, the task is to merge them in a sorted manner.\n",
    "\n",
    "**Examples:**\n",
    "\n",
    "> Input: arr1[] = { 1, 3, 4, 5}, arr2[] = {2, 4, 6, 8} \n",
    "    \n",
    "Output: arr3[] = {1, 2, 3, 4, 4, 5, 6, 8}\n",
    "\n",
    "Input: arr1[] = { 5, 8, 9}, arr2[] = {4, 7, 8}\n",
    "    \n",
    "Output: arr3[] = {4, 5, 7, 8, 8, 9}\n",
    "> \n",
    "</aside>"
   ]
  },
  {
   "cell_type": "code",
   "execution_count": 27,
   "id": "fb78291c",
   "metadata": {},
   "outputs": [],
   "source": [
    "def merge_sorted_arrays(arr1, arr2):\n",
    "    arr3 = []\n",
    "    i = j = 0\n",
    "\n",
    "    while i < len(arr1) and j < len(arr2):\n",
    "        if arr1[i] <= arr2[j]:\n",
    "            arr3.append(arr1[i])\n",
    "            i += 1\n",
    "        else:\n",
    "            arr3.append(arr2[j])\n",
    "            j += 1\n",
    "\n",
    "    # Append remaining elements from arr1 or arr2\n",
    "    arr3.extend(arr1[i:])\n",
    "    arr3.extend(arr2[j:])\n",
    "\n",
    "    return arr3\n"
   ]
  },
  {
   "cell_type": "code",
   "execution_count": 28,
   "id": "fa532cd5",
   "metadata": {},
   "outputs": [
    {
     "name": "stdout",
     "output_type": "stream",
     "text": [
      "[1, 2, 3, 4, 4, 5, 6, 8]\n",
      "[4, 5, 7, 8, 8, 9]\n"
     ]
    }
   ],
   "source": [
    "arr1 = [1, 3, 4, 5]\n",
    "arr2 = [2, 4, 6, 8]\n",
    "merged_array = merge_sorted_arrays(arr1, arr2)\n",
    "print(merged_array)  # Output: [1, 2, 3, 4, 4, 5, 6, 8]\n",
    "\n",
    "arr1 = [5, 8, 9]\n",
    "arr2 = [4, 7, 8]\n",
    "merged_array = merge_sorted_arrays(arr1, arr2)\n",
    "print(merged_array)  # Output: [4, 5, 7, 8, 8, 9]\n"
   ]
  },
  {
   "cell_type": "markdown",
   "id": "20c54360",
   "metadata": {},
   "source": [
    "# <aside>\n",
    "💡 7. **Intersection of Two Arrays**\n",
    "\n",
    "Given two integer arrays `nums1` and `nums2`, return *an array of their intersection*. Each element in the result must be **unique** and you may return the result in **any order**.\n",
    "\n",
    "**Example 1:**\n",
    "\n",
    "Input: nums1 = [1,2,2,1], nums2 = [2,2]\n",
    "    \n",
    "Output: [2]\n",
    "\n",
    "</aside>"
   ]
  },
  {
   "cell_type": "code",
   "execution_count": 29,
   "id": "f3ab7b94",
   "metadata": {},
   "outputs": [],
   "source": [
    "def intersection(nums1, nums2):\n",
    "    set1 = set(nums1)\n",
    "    set2 = set(nums2)\n",
    "    intersectionSet = set()\n",
    "    \n",
    "    for num in set2:\n",
    "        if num in set1:\n",
    "            intersectionSet.add(num)\n",
    "    \n",
    "    return list(intersectionSet)\n"
   ]
  },
  {
   "cell_type": "code",
   "execution_count": 30,
   "id": "8c648a9e",
   "metadata": {},
   "outputs": [
    {
     "name": "stdout",
     "output_type": "stream",
     "text": [
      "[2]\n"
     ]
    }
   ],
   "source": [
    "nums1 = [1, 2, 2, 1]\n",
    "nums2 = [2, 2]\n",
    "print(intersection(nums1, nums2))\n"
   ]
  },
  {
   "cell_type": "markdown",
   "id": "df127d0a",
   "metadata": {},
   "source": [
    "#### Example 2:\n",
    "\n",
    "Input: nums1 = [4,9,5], nums2 = [9,4,9,8,4]\n",
    "\n",
    "Output: [9,4]\n",
    "\n",
    "Explanation: [4,9] is also accepted.\n",
    "\n"
   ]
  },
  {
   "cell_type": "code",
   "execution_count": 31,
   "id": "261a19b4",
   "metadata": {},
   "outputs": [],
   "source": [
    "def intersection(nums1, nums2):\n",
    "    set1 = set(nums1)\n",
    "    set2 = set(nums2)\n",
    "    intersectionSet = set()\n",
    "    \n",
    "    for num in set2:\n",
    "        if num in set1:\n",
    "            intersectionSet.add(num)\n",
    "    \n",
    "    return list(intersectionSet)\n"
   ]
  },
  {
   "cell_type": "code",
   "execution_count": 32,
   "id": "4f28870d",
   "metadata": {},
   "outputs": [
    {
     "name": "stdout",
     "output_type": "stream",
     "text": [
      "[9, 4]\n"
     ]
    }
   ],
   "source": [
    "nums1 = [4, 9, 5]\n",
    "nums2 = [9, 4, 9, 8, 4]\n",
    "print(intersection(nums1, nums2))\n"
   ]
  },
  {
   "cell_type": "markdown",
   "id": "b98e68a9",
   "metadata": {},
   "source": [
    "# <aside>\n",
    "💡 8. **Intersection of Two Arrays II**\n",
    "\n",
    "Given two integer arrays `nums1` and `nums2`, return *an array of their intersection*. Each element in the result must appear as many times as it shows in both arrays and you may return the result in **any order**.\n",
    "\n",
    "**Example 1:**\n",
    "    \n",
    "Input: nums1 = [1,2,2,1], nums2 = [2,2]\n",
    "    \n",
    "Output: [2,2]\n",
    "\n",
    "</aside>"
   ]
  },
  {
   "cell_type": "code",
   "execution_count": 33,
   "id": "290f53d5",
   "metadata": {},
   "outputs": [],
   "source": [
    "from collections import defaultdict\n",
    "\n",
    "def intersect(nums1, nums2):\n",
    "    dict1 = defaultdict(int)\n",
    "    dict2 = defaultdict(int)\n",
    "\n",
    "    for num in nums1:\n",
    "        dict1[num] += 1\n",
    "\n",
    "    for num in nums2:\n",
    "        dict2[num] += 1\n",
    "\n",
    "    intersection = []\n",
    "    for num in dict1:\n",
    "        if num in dict2:\n",
    "            freq = min(dict1[num], dict2[num])\n",
    "            intersection.extend([num] * freq)\n",
    "\n",
    "    return intersection\n"
   ]
  },
  {
   "cell_type": "code",
   "execution_count": 34,
   "id": "e059bac1",
   "metadata": {},
   "outputs": [
    {
     "name": "stdout",
     "output_type": "stream",
     "text": [
      "[2, 2]\n"
     ]
    }
   ],
   "source": [
    "nums1 = [1, 2, 2, 1]\n",
    "nums2 = [2, 2]\n",
    "\n",
    "result = intersect(nums1, nums2)\n",
    "print(result)\n"
   ]
  },
  {
   "cell_type": "markdown",
   "id": "fb00c1b2",
   "metadata": {},
   "source": [
    "#### Example 2:\n",
    "    \n",
    "Input: nums1 = [4,9,5], nums2 = [9,4,9,8,4]\n",
    "    \n",
    "Output: [4,9]\n",
    "    \n",
    "Explanation: [9,4] is also accepted.\n"
   ]
  },
  {
   "cell_type": "code",
   "execution_count": 37,
   "id": "31aa8218",
   "metadata": {},
   "outputs": [],
   "source": [
    "\n",
    "\n",
    "from collections import defaultdict\n",
    "\n",
    "def intersect(nums1, nums2):\n",
    "    dict1 = defaultdict(int)\n",
    "    dict2 = defaultdict(int)\n",
    "\n",
    "    for num in nums1:\n",
    "        dict1[num] += 1\n",
    "\n",
    "    for num in nums2:\n",
    "        dict2[num] += 1\n",
    "\n",
    "    intersection = []\n",
    "    for num in dict1:\n",
    "        if num in dict2:\n",
    "            freq = min(dict1[num], dict2[num])\n",
    "            intersection.extend([num] * freq)\n",
    "\n",
    "    return intersection\n"
   ]
  },
  {
   "cell_type": "code",
   "execution_count": 38,
   "id": "e26d1088",
   "metadata": {},
   "outputs": [
    {
     "name": "stdout",
     "output_type": "stream",
     "text": [
      "[4, 9]\n"
     ]
    }
   ],
   "source": [
    "nums1 = [4, 9, 5]\n",
    "nums2 = [9, 4, 9, 8, 4]\n",
    "\n",
    "result = intersect(nums1, nums2)\n",
    "print(result)\n"
   ]
  },
  {
   "cell_type": "code",
   "execution_count": null,
   "id": "51c117d7",
   "metadata": {},
   "outputs": [],
   "source": []
  }
 ],
 "metadata": {
  "kernelspec": {
   "display_name": "Python 3 (ipykernel)",
   "language": "python",
   "name": "python3"
  },
  "language_info": {
   "codemirror_mode": {
    "name": "ipython",
    "version": 3
   },
   "file_extension": ".py",
   "mimetype": "text/x-python",
   "name": "python",
   "nbconvert_exporter": "python",
   "pygments_lexer": "ipython3",
   "version": "3.10.9"
  }
 },
 "nbformat": 4,
 "nbformat_minor": 5
}
