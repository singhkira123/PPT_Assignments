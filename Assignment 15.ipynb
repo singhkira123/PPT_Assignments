{
 "cells": [
  {
   "cell_type": "markdown",
   "id": "222a5a4a",
   "metadata": {},
   "source": [
    "# Assignment 15 Solution"
   ]
  },
  {
   "cell_type": "markdown",
   "id": "5cf6b338",
   "metadata": {},
   "source": [
    "# <aside>\n",
    "💡 **Question 1**\n",
    "\n",
    "Given an array **arr[ ]** of size **N** having elements, the task is to find the next greater element for each element of the array in order of their appearance in the array.Next greater element of an element in the array is the nearest element on the right which is greater than the current element.If there does not exist next greater of current element, then next greater element for current element is -1. For example, next greater of the last element is always -1.\n",
    "\n",
    "**Example 1:**\n",
    "    \n",
    "Input:\n",
    "    \n",
    "N = 4, arr[] = [1 3 2 4]\n",
    "\n",
    "Output:\n",
    "    \n",
    "3 4 4 -1\n",
    "\n",
    "Explanation:\n",
    "In the array, the next larger element\n",
    "to 1 is 3 , 3 is 4 , 2 is 4 and for 4 ?\n",
    "since it doesn't exist, it is -1.\n",
    "\n",
    "\n",
    "</aside>"
   ]
  },
  {
   "cell_type": "code",
   "execution_count": 1,
   "id": "2cc2c537",
   "metadata": {},
   "outputs": [
    {
     "name": "stdout",
     "output_type": "stream",
     "text": [
      "[3, 4, 4, -1]\n"
     ]
    }
   ],
   "source": [
    "def find_next_greater_elements(arr):\n",
    "    stack = []\n",
    "    result = []\n",
    "\n",
    "    # Iterate through the array from right to left\n",
    "    for i in range(len(arr) - 1, -1, -1):\n",
    "        # Pop elements from stack while they are smaller than or equal to the current element\n",
    "        while stack and stack[-1] <= arr[i]:\n",
    "            stack.pop()\n",
    "\n",
    "        # Set the result for the current element\n",
    "        if not stack:\n",
    "            result.append(-1)\n",
    "        else:\n",
    "            result.append(stack[-1])\n",
    "\n",
    "        # Push the current element onto the stack\n",
    "        stack.append(arr[i])\n",
    "\n",
    "    # Reverse the array of results\n",
    "    result.reverse()\n",
    "\n",
    "    return result\n",
    "\n",
    "# Example usage:\n",
    "arr = [1, 3, 2, 4]\n",
    "next_greater_elements = find_next_greater_elements(arr)\n",
    "print(next_greater_elements)\n"
   ]
  },
  {
   "cell_type": "markdown",
   "id": "be8aaaf7",
   "metadata": {},
   "source": [
    "#### Example 2:\n",
    "    \n",
    "Input:\n",
    "    \n",
    "N = 5, arr[] [6 8 0 1 3]\n",
    "\n",
    "Output:\n",
    "    \n",
    "8 -1 1 3 -1\n",
    "\n",
    "Explanation:\n",
    "    \n",
    "In the array, the next larger element to\n",
    "6 is 8, for 8 there is no larger elements\n",
    "hence it is -1, for 0 it is 1 , for 1 it\n",
    "is 3 and then for 3 there is no larger\n",
    "element on right and hence -1.\n",
    "    \n"
   ]
  },
  {
   "cell_type": "code",
   "execution_count": 4,
   "id": "e97670af",
   "metadata": {},
   "outputs": [
    {
     "name": "stdout",
     "output_type": "stream",
     "text": [
      "[8, -1, 1, 3, -1]\n"
     ]
    }
   ],
   "source": [
    "def find_next_greater_elements(arr):\n",
    "    stack = []\n",
    "    result = []\n",
    "\n",
    "    # Iterate through the array from right to left\n",
    "    for i in range(len(arr) - 1, -1, -1):\n",
    "        # Pop elements from stack while they are smaller than or equal to the current element\n",
    "        while stack and stack[-1] <= arr[i]:\n",
    "            stack.pop()\n",
    "\n",
    "        # Set the result for the current element\n",
    "        if not stack:\n",
    "            result.append(-1)\n",
    "        else:\n",
    "            result.append(stack[-1])\n",
    "\n",
    "        # Push the current element onto the stack\n",
    "        stack.append(arr[i])\n",
    "\n",
    "    # Reverse the array of results\n",
    "    result.reverse()\n",
    "\n",
    "    return result\n",
    "\n",
    "# Example usage:\n",
    "arr = [6, 8, 0, 1, 3]\n",
    "next_greater_elements = find_next_greater_elements(arr)\n",
    "print(next_greater_elements)\n"
   ]
  },
  {
   "cell_type": "markdown",
   "id": "cebdac9a",
   "metadata": {},
   "source": [
    "# <aside>\n",
    "💡 **Question 2**\n",
    "\n",
    "Given an array **a** of integers of length **n**, find the nearest smaller number for every element such that the smaller element is on left side.If no small element present on the left print -1.\n",
    "\n",
    "**Example 1:**\n",
    "\n",
    "Input: n = 3\n",
    "    \n",
    "a = {1, 6, 2}\n",
    "\n",
    "Output: -1 1 1\n",
    "    \n",
    "Explaination: There is no number at the\n",
    "left of 1. Smaller number than 6 and 2 is 1.\n",
    "\n",
    "</aside>"
   ]
  },
  {
   "cell_type": "code",
   "execution_count": 5,
   "id": "7d1415e7",
   "metadata": {},
   "outputs": [],
   "source": [
    "def find_nearest_smaller_numbers(a):\n",
    "    n = len(a)\n",
    "    result = [-1] * n\n",
    "    stack = []\n",
    "\n",
    "    for i in range(n):\n",
    "        while stack and stack[-1] >= a[i]:\n",
    "            stack.pop()\n",
    "\n",
    "        if stack:\n",
    "            result[i] = stack[-1]\n",
    "\n",
    "        stack.append(a[i])\n",
    "\n",
    "    return result\n"
   ]
  },
  {
   "cell_type": "code",
   "execution_count": 6,
   "id": "241a4b8b",
   "metadata": {},
   "outputs": [
    {
     "name": "stdout",
     "output_type": "stream",
     "text": [
      "[-1, 1, 1]\n"
     ]
    }
   ],
   "source": [
    "a = [1, 6, 2]\n",
    "result = find_nearest_smaller_numbers(a)\n",
    "print(result)\n"
   ]
  },
  {
   "cell_type": "markdown",
   "id": "0b8d9d3e",
   "metadata": {},
   "source": [
    "#### Example 2:\n",
    "    \n",
    "Input: n = 6\n",
    "    \n",
    "a = {1, 5, 0, 3, 4, 5}\n",
    "\n",
    "Output: -1 1 -1 0 3 4\n",
    "    \n",
    "Explaination: Upto 3 it is easy to see\n",
    "the smaller numbers. But for 4 the smaller\n",
    "numbers are 1, 0 and 3. But among them 3\n",
    "is closest. Similary for 5 it is 4."
   ]
  },
  {
   "cell_type": "code",
   "execution_count": 7,
   "id": "e15bc1cd",
   "metadata": {},
   "outputs": [],
   "source": [
    "def find_nearest_smaller_numbers(a):\n",
    "    n = len(a)\n",
    "    result = [-1] * n\n",
    "    stack = []\n",
    "\n",
    "    for i in range(n):\n",
    "        while stack and stack[-1] >= a[i]:\n",
    "            stack.pop()\n",
    "\n",
    "        if stack:\n",
    "            result[i] = stack[-1]\n",
    "\n",
    "        stack.append(a[i])\n",
    "\n",
    "    return result\n"
   ]
  },
  {
   "cell_type": "code",
   "execution_count": 8,
   "id": "b632ca39",
   "metadata": {},
   "outputs": [
    {
     "name": "stdout",
     "output_type": "stream",
     "text": [
      "[-1, 1, -1, 0, 3, 4]\n"
     ]
    }
   ],
   "source": [
    "a = [1, 5, 0, 3, 4, 5]\n",
    "result = find_nearest_smaller_numbers(a)\n",
    "print(result)\n"
   ]
  },
  {
   "cell_type": "markdown",
   "id": "401d1bcb",
   "metadata": {},
   "source": [
    "# <aside>\n",
    "💡 **Question 3**\n",
    "\n",
    "Implement a Stack using two queues **q1** and **q2**.\n",
    "\n",
    "**Example 1:**\n",
    "\n",
    "Input:\n",
    "    \n",
    "push(2)\n",
    "\n",
    "push(3)\n",
    "\n",
    "pop()\n",
    "\n",
    "push(4)\n",
    "\n",
    "pop()\n",
    "\n",
    "Output:3 4\n",
    "    \n",
    "Explanation:\n",
    "    \n",
    "push(2) the stack will be {2}\n",
    "    \n",
    "push(3) the stack will be {2 3}\n",
    "    \n",
    "pop()   poped element will be 3 the\n",
    "        stack will be {2}\n",
    "    \n",
    "push(4) the stack will be {2 4}\n",
    "    \n",
    "pop()   poped element will be 4\n",
    "\n",
    "\n",
    "</aside>"
   ]
  },
  {
   "cell_type": "code",
   "execution_count": 10,
   "id": "bfc24bd9",
   "metadata": {},
   "outputs": [
    {
     "name": "stdout",
     "output_type": "stream",
     "text": [
      "3\n",
      "4\n"
     ]
    }
   ],
   "source": [
    "class Stack:\n",
    "    def __init__(self):\n",
    "        self.q1 = []\n",
    "        self.q2 = []\n",
    "    \n",
    "    def push(self, value):\n",
    "        self.q1.append(value)\n",
    "    \n",
    "    def pop(self):\n",
    "        if not self.q1:\n",
    "            return None\n",
    "        \n",
    "        while len(self.q1) > 1:\n",
    "            self.q2.append(self.q1.pop(0))\n",
    "        \n",
    "        popped_value = self.q1.pop(0)\n",
    "        \n",
    "        # Swap q1 and q2\n",
    "        self.q1, self.q2 = self.q2, self.q1\n",
    "        \n",
    "        return popped_value\n",
    "\n",
    "# Example usage:\n",
    "stack = Stack()\n",
    "stack.push(2)\n",
    "stack.push(3)\n",
    "print(stack.pop())  # Output: 3\n",
    "stack.push(4)\n",
    "print(stack.pop())  # Output: 4\n"
   ]
  },
  {
   "cell_type": "markdown",
   "id": "413c6dd9",
   "metadata": {},
   "source": [
    "#### Example 2:\n",
    "    \n",
    "Input:\n",
    "    \n",
    "push(2)\n",
    "\n",
    "pop()\n",
    "\n",
    "pop()\n",
    "\n",
    "push(3)\n",
    "\n",
    "Output:2 -1"
   ]
  },
  {
   "cell_type": "code",
   "execution_count": 12,
   "id": "d535224c",
   "metadata": {},
   "outputs": [
    {
     "name": "stdout",
     "output_type": "stream",
     "text": [
      "2\n",
      "-1\n",
      "3\n"
     ]
    }
   ],
   "source": [
    "class Stack:\n",
    "    def __init__(self):\n",
    "        self.q1 = []\n",
    "        self.q2 = []\n",
    "    \n",
    "    def push(self, value):\n",
    "        self.q1.append(value)\n",
    "    \n",
    "    def pop(self):\n",
    "        if not self.q1:\n",
    "            return -1\n",
    "        \n",
    "        while len(self.q1) > 1:\n",
    "            self.q2.append(self.q1.pop(0))\n",
    "        \n",
    "        popped_value = self.q1.pop(0)\n",
    "        \n",
    "        # Swap q1 and q2\n",
    "        self.q1, self.q2 = self.q2, self.q1\n",
    "        \n",
    "        return popped_value\n",
    "\n",
    "# Example usage:\n",
    "stack = Stack()\n",
    "stack.push(2)\n",
    "print(stack.pop())  # Output: 2\n",
    "print(stack.pop())  # Output: -1\n",
    "stack.push(3)\n",
    "print(stack.pop())  # Output: 3\n"
   ]
  },
  {
   "cell_type": "markdown",
   "id": "c9ab5881",
   "metadata": {},
   "source": [
    "# <aside>\n",
    "💡 **Question 4**\n",
    "\n",
    "You are given a stack **St**. You have to reverse the stack using recursion.\n",
    "\n",
    "**Example 1:**\n",
    "    \n",
    "Input:St = {3,2,1,7,6\n",
    "            \n",
    "Output:{6,7,1,2,3}\n",
    "\n",
    "</aside>"
   ]
  },
  {
   "cell_type": "code",
   "execution_count": 13,
   "id": "dce6e049",
   "metadata": {},
   "outputs": [
    {
     "name": "stdout",
     "output_type": "stream",
     "text": [
      "[6, 7, 1, 2, 3]\n"
     ]
    }
   ],
   "source": [
    "def insertAtBottom(St, item):\n",
    "    if len(St) == 0:\n",
    "        St.append(item)\n",
    "    else:\n",
    "        temp = St.pop()\n",
    "        insertAtBottom(St, item)\n",
    "        St.append(temp)\n",
    "\n",
    "def reverseStack(St):\n",
    "    if len(St) > 1:\n",
    "        top = St.pop()\n",
    "        reverseStack(St)\n",
    "        insertAtBottom(St, top)\n",
    "\n",
    "# Example usage:\n",
    "St = [3, 2, 1, 7, 6]\n",
    "reverseStack(St)\n",
    "print(St)\n"
   ]
  },
  {
   "cell_type": "markdown",
   "id": "c1dd6e23",
   "metadata": {},
   "source": [
    "#### Example 2:\n",
    "    \n",
    "Input:St = {4,3,9,6}\n",
    "    \n",
    "Output:{6,9,3,4}"
   ]
  },
  {
   "cell_type": "code",
   "execution_count": 15,
   "id": "b6ce7843",
   "metadata": {},
   "outputs": [
    {
     "name": "stdout",
     "output_type": "stream",
     "text": [
      "[6, 9, 3, 4]\n"
     ]
    }
   ],
   "source": [
    "def insertAtBottom(St, item):\n",
    "    if len(St) == 0:\n",
    "        St.append(item)\n",
    "    else:\n",
    "        temp = St.pop()\n",
    "        insertAtBottom(St, item)\n",
    "        St.append(temp)\n",
    "\n",
    "def reverseStack(St):\n",
    "    if len(St) > 1:\n",
    "        top = St.pop()\n",
    "        reverseStack(St)\n",
    "        insertAtBottom(St, top)\n",
    "\n",
    "# Example usage:\n",
    "St = [4, 3, 9, 6]\n",
    "reverseStack(St)\n",
    "print(St)\n"
   ]
  },
  {
   "cell_type": "markdown",
   "id": "5ec00bdf",
   "metadata": {},
   "source": [
    "# <aside>\n",
    "💡 **Question 5**\n",
    "\n",
    "You are given a string **S**, the task is to reverse the string using stack.\n",
    "\n",
    "**Example 1:**\n",
    "    \n",
    "Input: S=\"GeeksforGeeks\"\n",
    "    \n",
    "Output: skeeGrofskeeG\n",
    "\n",
    "</aside>"
   ]
  },
  {
   "cell_type": "code",
   "execution_count": 17,
   "id": "5708f08b",
   "metadata": {},
   "outputs": [
    {
     "name": "stdout",
     "output_type": "stream",
     "text": [
      "skeeGrofskeeG\n"
     ]
    }
   ],
   "source": [
    "def reverse_string(S):\n",
    "    stack = []\n",
    "    for char in S:\n",
    "        stack.append(char)\n",
    "    \n",
    "    reversed_string = \"\"\n",
    "    while stack:\n",
    "        reversed_string += stack.pop()\n",
    "    \n",
    "    return reversed_string\n",
    "\n",
    "# Example usage\n",
    "S = \"GeeksforGeeks\"\n",
    "reversed_str = reverse_string(S)\n",
    "print(reversed_str)  # Output: skeeGrofskeeG\n"
   ]
  },
  {
   "cell_type": "markdown",
   "id": "f727cbe1",
   "metadata": {},
   "source": [
    "# <aside>\n",
    "💡 **Question 6**\n",
    "\n",
    "Given string **S** representing a postfix expression, the task is to evaluate the expression and find the final value. Operators will only include the basic arithmetic operators like ***, /, + and -**.\n",
    "\n",
    "**Example 1:**\n",
    "    \n",
    "    \n",
    "Input: S = \"231*+9-\"\n",
    "    \n",
    "Output: -4\n",
    "    \n",
    "Explanation:\n",
    "    \n",
    "After solving the given expression,\n",
    "we have -4 as result.\n",
    "\n",
    "\n",
    "</aside>"
   ]
  },
  {
   "cell_type": "code",
   "execution_count": 18,
   "id": "f6953453",
   "metadata": {},
   "outputs": [
    {
     "name": "stdout",
     "output_type": "stream",
     "text": [
      "-4\n"
     ]
    }
   ],
   "source": [
    "def evaluate_postfix(expression):\n",
    "    stack = []\n",
    "    \n",
    "    for char in expression:\n",
    "        if char.isdigit():\n",
    "            stack.append(int(char))\n",
    "        else:\n",
    "            operand2 = stack.pop()\n",
    "            operand1 = stack.pop()\n",
    "            \n",
    "            if char == '+':\n",
    "                result = operand1 + operand2\n",
    "            elif char == '-':\n",
    "                result = operand1 - operand2\n",
    "            elif char == '*':\n",
    "                result = operand1 * operand2\n",
    "            elif char == '/':\n",
    "                result = operand1 / operand2\n",
    "                \n",
    "            stack.append(result)\n",
    "    \n",
    "    return stack.pop()\n",
    "\n",
    "# Example usage:\n",
    "expression = \"231*+9-\"\n",
    "result = evaluate_postfix(expression)\n",
    "print(result)  # Output: -4\n"
   ]
  },
  {
   "cell_type": "markdown",
   "id": "506d15e1",
   "metadata": {},
   "source": [
    "**Example 2:**\n",
    "    \n",
    "Input: S = \"123+*8-\"\n",
    "    \n",
    "Output: -3\n",
    "    \n",
    "Explanation:\n",
    "    \n",
    "After solving the given postfix\n",
    "expression, we have -3 as result."
   ]
  },
  {
   "cell_type": "code",
   "execution_count": 19,
   "id": "17652e53",
   "metadata": {},
   "outputs": [
    {
     "name": "stdout",
     "output_type": "stream",
     "text": [
      "-3\n"
     ]
    }
   ],
   "source": [
    "def evaluate_postfix(expression):\n",
    "    stack = []\n",
    "    \n",
    "    for char in expression:\n",
    "        if char.isdigit():\n",
    "            stack.append(int(char))\n",
    "        else:\n",
    "            operand2 = stack.pop()\n",
    "            operand1 = stack.pop()\n",
    "            \n",
    "            if char == '+':\n",
    "                result = operand1 + operand2\n",
    "            elif char == '-':\n",
    "                result = operand1 - operand2\n",
    "            elif char == '*':\n",
    "                result = operand1 * operand2\n",
    "            elif char == '/':\n",
    "                result = operand1 / operand2\n",
    "                \n",
    "            stack.append(result)\n",
    "    \n",
    "    return stack.pop()\n",
    "\n",
    "# Example usage:\n",
    "expression = \"123+*8-\"\n",
    "result = evaluate_postfix(expression)\n",
    "print(result)  # Output: -3\n"
   ]
  },
  {
   "cell_type": "markdown",
   "id": "c740f1de",
   "metadata": {},
   "source": [
    "# <aside>\n",
    "💡 **Question 7**\n",
    "\n",
    "Design a stack that supports push, pop, top, and retrieving the minimum element in constant time.\n",
    "\n",
    "Implement the `MinStack` class:\n",
    "\n",
    "- `MinStack()` initializes the stack object.\n",
    "- `void push(int val)` pushes the element `val` onto the stack.\n",
    "- `void pop()` removes the element on the top of the stack.\n",
    "- `int top()` gets the top element of the stack.\n",
    "- `int getMin()` retrieves the minimum element in the stack.\n",
    "\n",
    "You must implement a solution with `O(1)` time complexity for each function.\n",
    "\n",
    "**Example 1:**\n",
    "    \n",
    "Input\n",
    "\n",
    "[\"MinStack\",\"push\",\"push\",\"push\",\"getMin\",\"pop\",\"top\",\"getMin\"]\n",
    "\n",
    "[[],[-2],[0],[-3],[],[],[],[]]\n",
    "\n",
    "Output\n",
    "\n",
    "[null,null,null,null,-3,null,0,-2]\n",
    "\n",
    "Explanation\n",
    "\n",
    "MinStack minStack = new MinStack();\n",
    "\n",
    "minStack.push(-2);\n",
    "\n",
    "minStack.push(0);\n",
    "\n",
    "minStack.push(-3);\n",
    "\n",
    "minStack.getMin(); // return -3\n",
    "\n",
    "minStack.pop();\n",
    "\n",
    "minStack.top();    // return 0\n",
    "\n",
    "minStack.getMin(); // return -2\n",
    "\n",
    "</aside>"
   ]
  },
  {
   "cell_type": "code",
   "execution_count": 20,
   "id": "4bab1f9b",
   "metadata": {},
   "outputs": [],
   "source": [
    "class MinStack:\n",
    "    def __init__(self):\n",
    "        self.stack = []\n",
    "        self.min_stack = []\n",
    "\n",
    "    def push(self, val: int) -> None:\n",
    "        self.stack.append(val)\n",
    "        if not self.min_stack or val <= self.min_stack[-1]:\n",
    "            self.min_stack.append(val)\n",
    "\n",
    "    def pop(self) -> None:\n",
    "        if self.stack.pop() == self.min_stack[-1]:\n",
    "            self.min_stack.pop()\n",
    "\n",
    "    def top(self) -> int:\n",
    "        return self.stack[-1]\n",
    "\n",
    "    def getMin(self) -> int:\n",
    "        return self.min_stack[-1]\n"
   ]
  },
  {
   "cell_type": "code",
   "execution_count": 21,
   "id": "5f2e333e",
   "metadata": {},
   "outputs": [
    {
     "name": "stdout",
     "output_type": "stream",
     "text": [
      "-3\n",
      "0\n",
      "-2\n"
     ]
    }
   ],
   "source": [
    "minStack = MinStack()\n",
    "minStack.push(-2)\n",
    "minStack.push(0)\n",
    "minStack.push(-3)\n",
    "print(minStack.getMin())  # Output: -3\n",
    "minStack.pop()\n",
    "print(minStack.top())     # Output: 0\n",
    "print(minStack.getMin())  # Output: -2\n"
   ]
  },
  {
   "cell_type": "markdown",
   "id": "3debeec4",
   "metadata": {},
   "source": [
    "# <aside>\n",
    "💡 **Question 8**\n",
    "\n",
    "Given `n` non-negative integers representing an elevation map where the width of each bar is `1`, compute how much water it can trap after raining.\n",
    "\n",
    "\n",
    "\n",
    "</aside>"
   ]
  },
  {
   "cell_type": "markdown",
   "id": "2da8417a",
   "metadata": {},
   "source": [
    "**Example 1:**\n",
    "    \n",
    "![](rainwatertrap.png)\n",
    "\n",
    "Input: height = [0,1,0,2,1,0,1,3,2,1,2,1]\n",
    "\n",
    "Output: 6\n",
    "\n",
    "Explanation: The above elevation map (black section) is represented by array [0,1,0,2,1,0,1,3,2,1,2,1]. In this case, 6 units of rain water (blue section) are being trapped.\n",
    "\n",
    "\n",
    "\n"
   ]
  },
  {
   "cell_type": "code",
   "execution_count": 23,
   "id": "186f1256",
   "metadata": {},
   "outputs": [],
   "source": [
    "def trap(height):\n",
    "    left = 0\n",
    "    right = len(height) - 1\n",
    "    left_max = right_max = water_trapped = 0\n",
    "\n",
    "    while left <= right:\n",
    "        if height[left] <= height[right]:\n",
    "            if height[left] > left_max:\n",
    "                left_max = height[left]\n",
    "            else:\n",
    "                water_trapped += left_max - height[left]\n",
    "            left += 1\n",
    "        else:\n",
    "            if height[right] > right_max:\n",
    "                right_max = height[right]\n",
    "            else:\n",
    "                water_trapped += right_max - height[right]\n",
    "            right -= 1\n",
    "\n",
    "    return water_trapped\n"
   ]
  },
  {
   "cell_type": "code",
   "execution_count": 24,
   "id": "1ab3fe6c",
   "metadata": {},
   "outputs": [
    {
     "name": "stdout",
     "output_type": "stream",
     "text": [
      "6\n"
     ]
    }
   ],
   "source": [
    "height = [0, 1, 0, 2, 1, 0, 1, 3, 2, 1, 2, 1]\n",
    "result = trap(height)\n",
    "print(result)\n"
   ]
  },
  {
   "cell_type": "markdown",
   "id": "8bcf787e",
   "metadata": {},
   "source": [
    "#### Example 2:\n",
    "\n",
    "Input: height = [4,2,0,3,2,5]\n",
    "\n",
    "Output: 9"
   ]
  },
  {
   "cell_type": "code",
   "execution_count": 25,
   "id": "83c312e8",
   "metadata": {},
   "outputs": [],
   "source": [
    "def trap(height):\n",
    "    left = 0\n",
    "    right = len(height) - 1\n",
    "    left_max = right_max = water_trapped = 0\n",
    "\n",
    "    while left < right:\n",
    "        if height[left] <= height[right]:\n",
    "            if height[left] > left_max:\n",
    "                left_max = height[left]\n",
    "            else:\n",
    "                water_trapped += left_max - height[left]\n",
    "            left += 1\n",
    "        else:\n",
    "            if height[right] > right_max:\n",
    "                right_max = height[right]\n",
    "            else:\n",
    "                water_trapped += right_max - height[right]\n",
    "            right -= 1\n",
    "\n",
    "    return water_trapped\n"
   ]
  },
  {
   "cell_type": "code",
   "execution_count": 26,
   "id": "996852fc",
   "metadata": {},
   "outputs": [
    {
     "name": "stdout",
     "output_type": "stream",
     "text": [
      "9\n"
     ]
    }
   ],
   "source": [
    "height = [4, 2, 0, 3, 2, 5]\n",
    "result = trap(height)\n",
    "print(result)\n"
   ]
  },
  {
   "cell_type": "code",
   "execution_count": null,
   "id": "8fe76db5",
   "metadata": {},
   "outputs": [],
   "source": []
  }
 ],
 "metadata": {
  "kernelspec": {
   "display_name": "Python 3 (ipykernel)",
   "language": "python",
   "name": "python3"
  },
  "language_info": {
   "codemirror_mode": {
    "name": "ipython",
    "version": 3
   },
   "file_extension": ".py",
   "mimetype": "text/x-python",
   "name": "python",
   "nbconvert_exporter": "python",
   "pygments_lexer": "ipython3",
   "version": "3.10.9"
  }
 },
 "nbformat": 4,
 "nbformat_minor": 5
}
